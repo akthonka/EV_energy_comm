{
 "cells": [
  {
   "cell_type": "code",
   "execution_count": 24,
   "metadata": {},
   "outputs": [
    {
     "data": {
      "text/plain": [
       "<module 'data_process' from 'c:\\\\Users\\\\panto\\\\Documents\\\\git\\\\personal\\\\EV_energy_comm\\\\python\\\\data_process.py'>"
      ]
     },
     "execution_count": 24,
     "metadata": {},
     "output_type": "execute_result"
    }
   ],
   "source": [
    "import pandas as pd\n",
    "import numpy as np\n",
    "\n",
    "import data_process\n",
    "import importlib\n",
    "importlib.reload(data_process)"
   ]
  },
  {
   "cell_type": "code",
   "execution_count": 14,
   "metadata": {},
   "outputs": [
    {
     "name": "stdout",
     "output_type": "stream",
     "text": [
      "Number of data frame segments =  90\n",
      "dfList created successfully.\n"
     ]
    }
   ],
   "source": [
    "# create random time series from import data\n",
    "da = data_process.DataAction()\n",
    "nc = data_process.net_calc()\n",
    "\n",
    "da.folder_path = r\"G:\\\\My Drive\\\\docs\\\\Education\\\\University\\\\ALUF\\\\SSE\\\\6 sem\\\\Bachelor Thesis\\\\data\\\\\"\n",
    "keep_cols = ['DE_KN_residential1_grid_import',\n",
    "             'DE_KN_residential2_grid_import',\n",
    "             'utc_timestamp']\n",
    "da.imp_procc(\"house_data.csv\", keep_cols)"
   ]
  },
  {
   "cell_type": "code",
   "execution_count": 15,
   "metadata": {},
   "outputs": [],
   "source": [
    "# broaden loc times\n",
    "da.night_evening_t = '18:00:00'\n",
    "da.night_morning_t = '06:00:00'"
   ]
  },
  {
   "cell_type": "code",
   "execution_count": 16,
   "metadata": {},
   "outputs": [],
   "source": [
    "def night_list(dfList_val):\n",
    "    \"\"\"create df list of nights for single dfList list\"\"\"\n",
    "\n",
    "    ts_nights = []\n",
    "    for i in da.unique_date(dfList_val)[:-1]: # last date has no morning time, is dropped\n",
    "        night = da.get_night(dfList_val,i)\n",
    "        ts_nights.append(night)\n",
    "\n",
    "    return ts_nights"
   ]
  },
  {
   "cell_type": "code",
   "execution_count": 17,
   "metadata": {},
   "outputs": [],
   "source": [
    "def max_datetimes_concat(ts_nights):\n",
    "    \"\"\"write max times from ts_night to max_datetimes df\"\"\"\n",
    "\n",
    "    concat_list = []\n",
    "    for i in range(len(ts_nights)):\n",
    "        concat_list.append(pd.Series(ts_nights[i].idxmax()))\n",
    "\n",
    "    max_datetimes=pd.concat((concat_list), axis=1).transpose()\n",
    "\n",
    "    return max_datetimes"
   ]
  },
  {
   "cell_type": "code",
   "execution_count": 18,
   "metadata": {},
   "outputs": [
    {
     "data": {
      "text/html": [
       "<div>\n",
       "<style scoped>\n",
       "    .dataframe tbody tr th:only-of-type {\n",
       "        vertical-align: middle;\n",
       "    }\n",
       "\n",
       "    .dataframe tbody tr th {\n",
       "        vertical-align: top;\n",
       "    }\n",
       "\n",
       "    .dataframe thead th {\n",
       "        text-align: right;\n",
       "    }\n",
       "</style>\n",
       "<table border=\"1\" class=\"dataframe\">\n",
       "  <thead>\n",
       "    <tr style=\"text-align: right;\">\n",
       "      <th></th>\n",
       "      <th>DE_KN_residential1_grid_import</th>\n",
       "      <th>DE_KN_residential2_grid_import</th>\n",
       "    </tr>\n",
       "  </thead>\n",
       "  <tbody>\n",
       "    <tr>\n",
       "      <th>0</th>\n",
       "      <td>2015-05-21 19:03:00+02:00</td>\n",
       "      <td>2015-05-21 18:01:00+02:00</td>\n",
       "    </tr>\n",
       "    <tr>\n",
       "      <th>1</th>\n",
       "      <td>2015-05-22 20:03:00+02:00</td>\n",
       "      <td>2015-05-22 19:28:00+02:00</td>\n",
       "    </tr>\n",
       "    <tr>\n",
       "      <th>2</th>\n",
       "      <td>2015-05-23 20:51:00+02:00</td>\n",
       "      <td>2015-05-23 21:19:00+02:00</td>\n",
       "    </tr>\n",
       "    <tr>\n",
       "      <th>3</th>\n",
       "      <td>2015-05-24 22:42:00+02:00</td>\n",
       "      <td>2015-05-25 00:51:00+02:00</td>\n",
       "    </tr>\n",
       "    <tr>\n",
       "      <th>4</th>\n",
       "      <td>2015-05-25 21:03:00+02:00</td>\n",
       "      <td>2015-05-25 20:51:00+02:00</td>\n",
       "    </tr>\n",
       "  </tbody>\n",
       "</table>\n",
       "</div>"
      ],
      "text/plain": [
       "  DE_KN_residential1_grid_import DE_KN_residential2_grid_import\n",
       "0      2015-05-21 19:03:00+02:00      2015-05-21 18:01:00+02:00\n",
       "1      2015-05-22 20:03:00+02:00      2015-05-22 19:28:00+02:00\n",
       "2      2015-05-23 20:51:00+02:00      2015-05-23 21:19:00+02:00\n",
       "3      2015-05-24 22:42:00+02:00      2015-05-25 00:51:00+02:00\n",
       "4      2015-05-25 21:03:00+02:00      2015-05-25 20:51:00+02:00"
      ]
     },
     "execution_count": 18,
     "metadata": {},
     "output_type": "execute_result"
    }
   ],
   "source": [
    "max_datetimes = pd.DataFrame()\n",
    "parse_max = []\n",
    "\n",
    "for i in range(len(da.dfList)):\n",
    "    ts = da.parse_procc(da.dfList[i])\n",
    "    ts_nights = night_list(ts)\n",
    "    parse_max.append(max_datetimes_concat(ts_nights))\n",
    "\n",
    "max_datetimes = pd.concat((parse_max))\n",
    "max_datetimes.head()"
   ]
  },
  {
   "cell_type": "code",
   "execution_count": 19,
   "metadata": {},
   "outputs": [
    {
     "data": {
      "text/html": [
       "<div>\n",
       "<style scoped>\n",
       "    .dataframe tbody tr th:only-of-type {\n",
       "        vertical-align: middle;\n",
       "    }\n",
       "\n",
       "    .dataframe tbody tr th {\n",
       "        vertical-align: top;\n",
       "    }\n",
       "\n",
       "    .dataframe thead th {\n",
       "        text-align: right;\n",
       "    }\n",
       "</style>\n",
       "<table border=\"1\" class=\"dataframe\">\n",
       "  <thead>\n",
       "    <tr style=\"text-align: right;\">\n",
       "      <th></th>\n",
       "      <th>DE_KN_residential1_grid_import</th>\n",
       "      <th>DE_KN_residential2_grid_import</th>\n",
       "    </tr>\n",
       "  </thead>\n",
       "  <tbody>\n",
       "    <tr>\n",
       "      <th>count</th>\n",
       "      <td>622</td>\n",
       "      <td>622</td>\n",
       "    </tr>\n",
       "    <tr>\n",
       "      <th>mean</th>\n",
       "      <td>2016-03-27 09:08:16.881028864+02:00</td>\n",
       "      <td>2016-03-27 08:18:00.096463104+02:00</td>\n",
       "    </tr>\n",
       "    <tr>\n",
       "      <th>min</th>\n",
       "      <td>2015-05-21 19:03:00+02:00</td>\n",
       "      <td>2015-05-21 18:01:00+02:00</td>\n",
       "    </tr>\n",
       "    <tr>\n",
       "      <th>25%</th>\n",
       "      <td>2015-10-24 01:43:00+02:00</td>\n",
       "      <td>2015-10-24 01:33:00+02:00</td>\n",
       "    </tr>\n",
       "    <tr>\n",
       "      <th>50%</th>\n",
       "      <td>2016-03-27 09:02:30+02:00</td>\n",
       "      <td>2016-03-27 08:12:30+02:00</td>\n",
       "    </tr>\n",
       "    <tr>\n",
       "      <th>75%</th>\n",
       "      <td>2016-08-29 14:43:15+02:00</td>\n",
       "      <td>2016-08-29 13:54:00+02:00</td>\n",
       "    </tr>\n",
       "    <tr>\n",
       "      <th>max</th>\n",
       "      <td>2017-01-31 19:46:00+01:00</td>\n",
       "      <td>2017-01-31 18:52:00+01:00</td>\n",
       "    </tr>\n",
       "  </tbody>\n",
       "</table>\n",
       "</div>"
      ],
      "text/plain": [
       "            DE_KN_residential1_grid_import  \\\n",
       "count                                  622   \n",
       "mean   2016-03-27 09:08:16.881028864+02:00   \n",
       "min              2015-05-21 19:03:00+02:00   \n",
       "25%              2015-10-24 01:43:00+02:00   \n",
       "50%              2016-03-27 09:02:30+02:00   \n",
       "75%              2016-08-29 14:43:15+02:00   \n",
       "max              2017-01-31 19:46:00+01:00   \n",
       "\n",
       "            DE_KN_residential2_grid_import  \n",
       "count                                  622  \n",
       "mean   2016-03-27 08:18:00.096463104+02:00  \n",
       "min              2015-05-21 18:01:00+02:00  \n",
       "25%              2015-10-24 01:33:00+02:00  \n",
       "50%              2016-03-27 08:12:30+02:00  \n",
       "75%              2016-08-29 13:54:00+02:00  \n",
       "max              2017-01-31 18:52:00+01:00  "
      ]
     },
     "execution_count": 19,
     "metadata": {},
     "output_type": "execute_result"
    }
   ],
   "source": [
    "max_datetimes.describe(datetime_is_numeric=True)"
   ]
  },
  {
   "cell_type": "code",
   "execution_count": 20,
   "metadata": {},
   "outputs": [
    {
     "name": "stdout",
     "output_type": "stream",
     "text": [
      "Global max load time mean:\n"
     ]
    },
    {
     "data": {
      "text/plain": [
       "'19:19:00'"
      ]
     },
     "execution_count": 20,
     "metadata": {},
     "output_type": "execute_result"
    }
   ],
   "source": [
    "print(\"Global max load time mean:\")\n",
    "np.mean(max_datetimes.max()).strftime(\"%H:%M:%S\")"
   ]
  }
 ],
 "metadata": {
  "kernelspec": {
   "display_name": "Python 3.9.7 ('base')",
   "language": "python",
   "name": "python3"
  },
  "language_info": {
   "codemirror_mode": {
    "name": "ipython",
    "version": 3
   },
   "file_extension": ".py",
   "mimetype": "text/x-python",
   "name": "python",
   "nbconvert_exporter": "python",
   "pygments_lexer": "ipython3",
   "version": "3.9.7"
  },
  "orig_nbformat": 4,
  "vscode": {
   "interpreter": {
    "hash": "6def5470faae44f4518b425a4b3738447140b51def98969fb990afe68d0dcf30"
   }
  }
 },
 "nbformat": 4,
 "nbformat_minor": 2
}
