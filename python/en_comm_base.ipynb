{
 "cells": [
  {
   "cell_type": "code",
   "execution_count": 297,
   "metadata": {},
   "outputs": [],
   "source": [
    "import pandas as pd\n",
    "\n",
    "import pandapower as pp\n",
    "import pandapower.networks as pn\n",
    "import pandapower.plotting as plot\n",
    "from pandapower.timeseries import DFData\n",
    "from pandapower.timeseries import OutputWriter\n",
    "from pandapower.timeseries.run_time_series import run_timeseries\n",
    "from pandapower.control import ConstControl\n",
    "import matplotlib\n",
    "import matplotlib.pyplot as plt\n",
    "import matplotlib.dates as mdates\n",
    "matplotlib.rcParams['timezone'] = 'Europe/Berlin'\n",
    "\n",
    "import data_process_base\n",
    "import importlib\n",
    "importlib.reload(data_process_base)\n",
    "\n",
    "try:\n",
    "    import seaborn\n",
    "    colors = seaborn.color_palette()\n",
    "except:\n",
    "    colors = [\"b\", \"g\", \"r\", \"c\", \"y\"]"
   ]
  },
  {
   "cell_type": "code",
   "execution_count": 298,
   "metadata": {},
   "outputs": [
    {
     "name": "stdout",
     "output_type": "stream",
     "text": [
      "Number of data frame segments =  90\n",
      "dfList created successfully.\n",
      "Whoops, grabbing a different touple of dates...\n"
     ]
    }
   ],
   "source": [
    "# create random time series from import data\n",
    "da = data_process_base.DataAction()\n",
    "keep_cols = ['DE_KN_residential1_grid_import',\n",
    "             'DE_KN_residential2_grid_import',\n",
    "             'cet_cest_timestamp']\n",
    "da.imp_procc(\"house_data.csv\", keep_cols)\n",
    "night_merge = da.power_merge()"
   ]
  },
  {
   "cell_type": "code",
   "execution_count": 299,
   "metadata": {},
   "outputs": [],
   "source": [
    "# # for testing the sgen_comm function\n",
    "# test = night_merge.iloc[:9,:].copy()\n",
    "# da.sgen_comm(ts=test, wind_length=2, sgen_val=999999, parties=4)"
   ]
  },
  {
   "cell_type": "code",
   "execution_count": 300,
   "metadata": {},
   "outputs": [],
   "source": [
    "# assign generator value at random times\n",
    "sgen_val = 0.01 # typical val: 0.010 MW = 10kW\n",
    "# night_mw = da.sgen_comm(ts=night_merge, wind_length=60, sgen_val=sgen_val, parties=4)\n",
    "night_mw = da.sgen_rand(ts=night_merge, sgen_val=sgen_val)\n"
   ]
  },
  {
   "cell_type": "code",
   "execution_count": 301,
   "metadata": {},
   "outputs": [
    {
     "name": "stderr",
     "output_type": "stream",
     "text": [
      "100%|██████████| 601/601 [00:01<00:00, 339.10it/s]\n"
     ]
    }
   ],
   "source": [
    "# run timeseries processes\n",
    "nc = data_process_base.net_calc()\n",
    "\n",
    "nc.four_loads_branched_make(night_mw)\n",
    "nc.four_loads_branched_out(\"res_line\", \"loading_percent\")\n",
    "nc.four_loads_branched_run()\n",
    "nc.four_loads_branched_read_loadpct()\n",
    "# nc.four_loads_branched_plot_linepct()"
   ]
  },
  {
   "cell_type": "code",
   "execution_count": 302,
   "metadata": {},
   "outputs": [
    {
     "name": "stderr",
     "output_type": "stream",
     "text": [
      "100%|██████████| 601/601 [00:01<00:00, 338.44it/s]\n",
      "100%|██████████| 601/601 [00:01<00:00, 349.68it/s]\n",
      "100%|██████████| 601/601 [00:01<00:00, 326.62it/s]\n",
      "100%|██████████| 601/601 [00:01<00:00, 341.49it/s]\n",
      "100%|██████████| 601/601 [00:01<00:00, 357.58it/s]\n"
     ]
    },
    {
     "data": {
      "text/html": [
       "<div>\n",
       "<style scoped>\n",
       "    .dataframe tbody tr th:only-of-type {\n",
       "        vertical-align: middle;\n",
       "    }\n",
       "\n",
       "    .dataframe tbody tr th {\n",
       "        vertical-align: top;\n",
       "    }\n",
       "\n",
       "    .dataframe thead th {\n",
       "        text-align: right;\n",
       "    }\n",
       "</style>\n",
       "<table border=\"1\" class=\"dataframe\">\n",
       "  <thead>\n",
       "    <tr style=\"text-align: right;\">\n",
       "      <th></th>\n",
       "      <th>line_1</th>\n",
       "      <th>line_2</th>\n",
       "      <th>line_3</th>\n",
       "      <th>line_4</th>\n",
       "      <th>line_5</th>\n",
       "      <th>line_6</th>\n",
       "      <th>line_7</th>\n",
       "      <th>line_8</th>\n",
       "    </tr>\n",
       "  </thead>\n",
       "  <tbody>\n",
       "    <tr>\n",
       "      <th>0</th>\n",
       "      <td>39.540316</td>\n",
       "      <td>33.029353</td>\n",
       "      <td>25.191199</td>\n",
       "      <td>12.568007</td>\n",
       "      <td>19.219220</td>\n",
       "      <td>10.951966</td>\n",
       "      <td>17.854333</td>\n",
       "      <td>12.568195</td>\n",
       "    </tr>\n",
       "    <tr>\n",
       "      <th>1</th>\n",
       "      <td>39.540316</td>\n",
       "      <td>33.029353</td>\n",
       "      <td>25.191199</td>\n",
       "      <td>12.568007</td>\n",
       "      <td>19.243038</td>\n",
       "      <td>10.951966</td>\n",
       "      <td>17.512105</td>\n",
       "      <td>12.568195</td>\n",
       "    </tr>\n",
       "    <tr>\n",
       "      <th>2</th>\n",
       "      <td>39.324336</td>\n",
       "      <td>32.987826</td>\n",
       "      <td>25.159458</td>\n",
       "      <td>12.568007</td>\n",
       "      <td>19.243038</td>\n",
       "      <td>10.938300</td>\n",
       "      <td>17.854333</td>\n",
       "      <td>12.568195</td>\n",
       "    </tr>\n",
       "    <tr>\n",
       "      <th>3</th>\n",
       "      <td>39.540316</td>\n",
       "      <td>33.029353</td>\n",
       "      <td>25.191199</td>\n",
       "      <td>12.568007</td>\n",
       "      <td>19.195671</td>\n",
       "      <td>10.951966</td>\n",
       "      <td>17.831941</td>\n",
       "      <td>12.568195</td>\n",
       "    </tr>\n",
       "    <tr>\n",
       "      <th>4</th>\n",
       "      <td>39.540316</td>\n",
       "      <td>33.029353</td>\n",
       "      <td>25.191199</td>\n",
       "      <td>12.568007</td>\n",
       "      <td>19.219220</td>\n",
       "      <td>10.951966</td>\n",
       "      <td>17.854333</td>\n",
       "      <td>12.568195</td>\n",
       "    </tr>\n",
       "  </tbody>\n",
       "</table>\n",
       "</div>"
      ],
      "text/plain": [
       "      line_1     line_2     line_3     line_4     line_5     line_6  \\\n",
       "0  39.540316  33.029353  25.191199  12.568007  19.219220  10.951966   \n",
       "1  39.540316  33.029353  25.191199  12.568007  19.243038  10.951966   \n",
       "2  39.324336  32.987826  25.159458  12.568007  19.243038  10.938300   \n",
       "3  39.540316  33.029353  25.191199  12.568007  19.195671  10.951966   \n",
       "4  39.540316  33.029353  25.191199  12.568007  19.219220  10.951966   \n",
       "\n",
       "      line_7     line_8  \n",
       "0  17.854333  12.568195  \n",
       "1  17.512105  12.568195  \n",
       "2  17.854333  12.568195  \n",
       "3  17.831941  12.568195  \n",
       "4  17.854333  12.568195  "
      ]
     },
     "execution_count": 302,
     "metadata": {},
     "output_type": "execute_result"
    }
   ],
   "source": [
    "def end_val_make(night_merge, sgen_val, iter):\n",
    "    \"\"\"\n",
    "    Final boss\n",
    "\n",
    "    \"\"\"\n",
    "    # get inputs from df\n",
    "    col_names = ['line_1', 'line_2', 'line_3', 'line_4', 'line_5', 'line_6', 'line_7', 'line_8']\n",
    "\n",
    "    # create df to store output\n",
    "    end_val = pd.DataFrame(columns=col_names)\n",
    "\n",
    "\n",
    "    for i in range(0, iter):\n",
    "        # assign generator value at random times\n",
    "        # night_mw = da.sgen_comm(ts=night_merge, wind_length=60, sgen_val=sgen_val, parties=4)\n",
    "        night_mw = da.sgen_rand(ts=night_merge, sgen_val=sgen_val)\n",
    "\n",
    "        nc.four_loads_branched_make(night_mw)\n",
    "        nc.four_loads_branched_out(\"res_line\", \"loading_percent\")\n",
    "        nc.four_loads_branched_run()\n",
    "        nc.four_loads_branched_read_loadpct()\n",
    "\n",
    "        nc.end_val_step(nc.ll, end_val)\n",
    "\n",
    "    return end_val\n",
    "\n",
    "\n",
    "iter = 5\n",
    "sgen_val = 0.01 # typical val: 0.010 MW = 10kW\n",
    "end_val_make(night_merge, sgen_val, iter)\n"
   ]
  },
  {
   "cell_type": "code",
   "execution_count": 303,
   "metadata": {},
   "outputs": [
    {
     "name": "stdout",
     "output_type": "stream",
     "text": [
      "bruh\n",
      "bruh\n",
      "bruh\n",
      "bruh\n",
      "bruh\n"
     ]
    }
   ],
   "source": [
    "for i in range(0,5):\n",
    "    print('bruh')"
   ]
  },
  {
   "cell_type": "code",
   "execution_count": 304,
   "metadata": {},
   "outputs": [
    {
     "data": {
      "text/html": [
       "<div>\n",
       "<style scoped>\n",
       "    .dataframe tbody tr th:only-of-type {\n",
       "        vertical-align: middle;\n",
       "    }\n",
       "\n",
       "    .dataframe tbody tr th {\n",
       "        vertical-align: top;\n",
       "    }\n",
       "\n",
       "    .dataframe thead th {\n",
       "        text-align: right;\n",
       "    }\n",
       "</style>\n",
       "<table border=\"1\" class=\"dataframe\">\n",
       "  <thead>\n",
       "    <tr style=\"text-align: right;\">\n",
       "      <th></th>\n",
       "      <th>line_1</th>\n",
       "      <th>line_2</th>\n",
       "      <th>line_3</th>\n",
       "      <th>line_4</th>\n",
       "      <th>line_5</th>\n",
       "      <th>line_6</th>\n",
       "      <th>line_7</th>\n",
       "      <th>line_8</th>\n",
       "    </tr>\n",
       "  </thead>\n",
       "  <tbody>\n",
       "    <tr>\n",
       "      <th>0</th>\n",
       "      <td>39.540316</td>\n",
       "      <td>33.029353</td>\n",
       "      <td>25.191199</td>\n",
       "      <td>12.568007</td>\n",
       "      <td>19.21922</td>\n",
       "      <td>10.951966</td>\n",
       "      <td>17.854333</td>\n",
       "      <td>12.568195</td>\n",
       "    </tr>\n",
       "  </tbody>\n",
       "</table>\n",
       "</div>"
      ],
      "text/plain": [
       "      line_1     line_2     line_3     line_4    line_5     line_6     line_7  \\\n",
       "0  39.540316  33.029353  25.191199  12.568007  19.21922  10.951966  17.854333   \n",
       "\n",
       "      line_8  \n",
       "0  12.568195  "
      ]
     },
     "execution_count": 304,
     "metadata": {},
     "output_type": "execute_result"
    }
   ],
   "source": [
    "def end_val_make(df):\n",
    "    \"\"\"\n",
    "    append vals to end_val df\n",
    "    \n",
    "    \"\"\"\n",
    "    # get inputs from df\n",
    "    col_names = df.columns.tolist()\n",
    "    max_val = df.max()\n",
    "\n",
    "    # create df to store output\n",
    "    end_val = pd.DataFrame(columns=col_names)\n",
    "    \n",
    "    # append series as last line\n",
    "    end_val.loc[end_val.shape[0]] = max_val\n",
    "\n",
    "    return end_val\n",
    "\n",
    "\n",
    "end_val_make(nc.ll)"
   ]
  },
  {
   "cell_type": "code",
   "execution_count": 305,
   "metadata": {},
   "outputs": [],
   "source": [
    "def end_times_make(df):\n",
    "    \"\"\"\n",
    "    append time vals to end_times df\n",
    "    \n",
    "    \"\"\"\n",
    "    # get inputs\n",
    "    col_names = df.columns.tolist()\n",
    "    max_ind = df.idxmax()\n",
    "    k = nc.night_mw.index.values[max_ind.tolist()]\n",
    "    max_time = pd.to_datetime(k).strftime('%H:%M:%S').tolist()\n",
    "\n",
    "    # create df to store output\n",
    "    end_times = pd.DataFrame(dtype='str', columns=col_names)\n",
    "    \n",
    "    # append series as last line\n",
    "    end_times.loc[end_times.shape[0]] = max_time\n",
    "\n",
    "    return end_times\n",
    "\n",
    "\n",
    "# end_times_make(nc.ll)"
   ]
  },
  {
   "cell_type": "code",
   "execution_count": null,
   "metadata": {},
   "outputs": [],
   "source": []
  }
 ],
 "metadata": {
  "kernelspec": {
   "display_name": "Python 3.9.7 ('base')",
   "language": "python",
   "name": "python3"
  },
  "language_info": {
   "codemirror_mode": {
    "name": "ipython",
    "version": 3
   },
   "file_extension": ".py",
   "mimetype": "text/x-python",
   "name": "python",
   "nbconvert_exporter": "python",
   "pygments_lexer": "ipython3",
   "version": "3.9.7"
  },
  "orig_nbformat": 4,
  "vscode": {
   "interpreter": {
    "hash": "6def5470faae44f4518b425a4b3738447140b51def98969fb990afe68d0dcf30"
   }
  }
 },
 "nbformat": 4,
 "nbformat_minor": 2
}
