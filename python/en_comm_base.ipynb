{
 "cells": [
  {
   "cell_type": "code",
   "execution_count": 25,
   "metadata": {},
   "outputs": [],
   "source": [
    "import pandas as pd\n",
    "\n",
    "import pandapower as pp\n",
    "import pandapower.networks as pn\n",
    "import pandapower.plotting as plot\n",
    "from pandapower.timeseries import DFData\n",
    "from pandapower.timeseries import OutputWriter\n",
    "from pandapower.timeseries.run_time_series import run_timeseries\n",
    "from pandapower.control import ConstControl\n",
    "import matplotlib\n",
    "import matplotlib.pyplot as plt\n",
    "import matplotlib.dates as mdates\n",
    "matplotlib.rcParams['timezone'] = 'Europe/Berlin'\n",
    "\n",
    "import data_process_base\n",
    "import importlib\n",
    "importlib.reload(data_process_base)\n",
    "\n",
    "try:\n",
    "    import seaborn\n",
    "    colors = seaborn.color_palette()\n",
    "except:\n",
    "    colors = [\"b\", \"g\", \"r\", \"c\", \"y\"]"
   ]
  },
  {
   "cell_type": "code",
   "execution_count": 26,
   "metadata": {},
   "outputs": [
    {
     "name": "stdout",
     "output_type": "stream",
     "text": [
      "Number of data frame segments =  90\n",
      "dfList created successfully.\n"
     ]
    }
   ],
   "source": [
    "# create random time series from import data\n",
    "da = data_process_base.DataAction()\n",
    "nc = data_process_base.net_calc()\n",
    "\n",
    "keep_cols = ['DE_KN_residential1_grid_import',\n",
    "             'DE_KN_residential2_grid_import',\n",
    "             'utc_timestamp']\n",
    "da.imp_procc(\"house_data.csv\", keep_cols)"
   ]
  },
  {
   "cell_type": "code",
   "execution_count": 32,
   "metadata": {},
   "outputs": [
    {
     "name": "stderr",
     "output_type": "stream",
     "text": [
      "100%|██████████| 601/601 [00:01<00:00, 356.94it/s]\n",
      "100%|██████████| 601/601 [00:01<00:00, 342.79it/s]\n"
     ]
    }
   ],
   "source": [
    "def end_results(sgen_val, iter):\n",
    "    \"\"\"\n",
    "    Final boss\n",
    "\n",
    "    \"\"\"\n",
    "    # create df to store output\n",
    "    col_names = ['line_1', 'line_2', 'line_3', 'line_4', 'line_5', 'line_6', 'line_7', 'line_8']\n",
    "    end_vals = pd.DataFrame(columns=col_names)\n",
    "    end_times = pd.DataFrame(dtype='str', columns=col_names)\n",
    "\n",
    "    for i in range(0, iter):\n",
    "        # iterative scramble\n",
    "        night_merge = da.power_merge()\n",
    "\n",
    "        # assign generator value at random times\n",
    "        night_mw = da.sgen_comm(ts=night_merge, wind_length=60, sgen_val=sgen_val, parties=4)\n",
    "        # night_mw = da.sgen_rand(ts=night_merge, sgen_val=sgen_val)\n",
    "\n",
    "        nc.four_loads_branched_make(night_mw)\n",
    "        nc.four_loads_branched_out(\"res_line\", \"loading_percent\")\n",
    "        nc.four_loads_branched_run()\n",
    "        nc.four_loads_branched_read_loadpct()\n",
    "\n",
    "        nc.end_vals_step(nc.ll, end_vals)\n",
    "        nc.end_times_step(nc.ll, end_times)\n",
    "\n",
    "    return end_vals, end_times\n",
    "\n",
    "\n",
    "iter = 10\n",
    "sgen_val = 0.01 # typical val: 0.010 MW = 10kW\n",
    "end_vals, end_times = end_results(sgen_val, iter)"
   ]
  },
  {
   "cell_type": "code",
   "execution_count": 34,
   "metadata": {},
   "outputs": [
    {
     "data": {
      "text/html": [
       "<div>\n",
       "<style scoped>\n",
       "    .dataframe tbody tr th:only-of-type {\n",
       "        vertical-align: middle;\n",
       "    }\n",
       "\n",
       "    .dataframe tbody tr th {\n",
       "        vertical-align: top;\n",
       "    }\n",
       "\n",
       "    .dataframe thead th {\n",
       "        text-align: right;\n",
       "    }\n",
       "</style>\n",
       "<table border=\"1\" class=\"dataframe\">\n",
       "  <thead>\n",
       "    <tr style=\"text-align: right;\">\n",
       "      <th></th>\n",
       "      <th>line_1</th>\n",
       "      <th>line_2</th>\n",
       "      <th>line_3</th>\n",
       "      <th>line_4</th>\n",
       "      <th>line_5</th>\n",
       "      <th>line_6</th>\n",
       "      <th>line_7</th>\n",
       "      <th>line_8</th>\n",
       "    </tr>\n",
       "  </thead>\n",
       "  <tbody>\n",
       "    <tr>\n",
       "      <th>0</th>\n",
       "      <td>56.329185</td>\n",
       "      <td>30.830091</td>\n",
       "      <td>25.285763</td>\n",
       "      <td>8.522746</td>\n",
       "      <td>33.443170</td>\n",
       "      <td>8.506247</td>\n",
       "      <td>22.925660</td>\n",
       "      <td>8.523023</td>\n",
       "    </tr>\n",
       "    <tr>\n",
       "      <th>1</th>\n",
       "      <td>71.004068</td>\n",
       "      <td>66.544083</td>\n",
       "      <td>35.039399</td>\n",
       "      <td>8.508642</td>\n",
       "      <td>9.151695</td>\n",
       "      <td>35.234040</td>\n",
       "      <td>30.758303</td>\n",
       "      <td>8.508920</td>\n",
       "    </tr>\n",
       "  </tbody>\n",
       "</table>\n",
       "</div>"
      ],
      "text/plain": [
       "      line_1     line_2     line_3    line_4     line_5     line_6     line_7  \\\n",
       "0  56.329185  30.830091  25.285763  8.522746  33.443170   8.506247  22.925660   \n",
       "1  71.004068  66.544083  35.039399  8.508642   9.151695  35.234040  30.758303   \n",
       "\n",
       "     line_8  \n",
       "0  8.523023  \n",
       "1  8.508920  "
      ]
     },
     "execution_count": 34,
     "metadata": {},
     "output_type": "execute_result"
    }
   ],
   "source": [
    "end_vals"
   ]
  },
  {
   "cell_type": "code",
   "execution_count": 35,
   "metadata": {},
   "outputs": [
    {
     "data": {
      "text/html": [
       "<div>\n",
       "<style scoped>\n",
       "    .dataframe tbody tr th:only-of-type {\n",
       "        vertical-align: middle;\n",
       "    }\n",
       "\n",
       "    .dataframe tbody tr th {\n",
       "        vertical-align: top;\n",
       "    }\n",
       "\n",
       "    .dataframe thead th {\n",
       "        text-align: right;\n",
       "    }\n",
       "</style>\n",
       "<table border=\"1\" class=\"dataframe\">\n",
       "  <thead>\n",
       "    <tr style=\"text-align: right;\">\n",
       "      <th></th>\n",
       "      <th>line_1</th>\n",
       "      <th>line_2</th>\n",
       "      <th>line_3</th>\n",
       "      <th>line_4</th>\n",
       "      <th>line_5</th>\n",
       "      <th>line_6</th>\n",
       "      <th>line_7</th>\n",
       "      <th>line_8</th>\n",
       "    </tr>\n",
       "  </thead>\n",
       "  <tbody>\n",
       "    <tr>\n",
       "      <th>0</th>\n",
       "      <td>18:02:00</td>\n",
       "      <td>18:02:00</td>\n",
       "      <td>18:01:00</td>\n",
       "      <td>21:01:00</td>\n",
       "      <td>18:11:00</td>\n",
       "      <td>22:02:00</td>\n",
       "      <td>18:02:00</td>\n",
       "      <td>21:01:00</td>\n",
       "    </tr>\n",
       "    <tr>\n",
       "      <th>1</th>\n",
       "      <td>18:57:00</td>\n",
       "      <td>18:57:00</td>\n",
       "      <td>19:11:00</td>\n",
       "      <td>22:40:00</td>\n",
       "      <td>03:43:00</td>\n",
       "      <td>19:00:00</td>\n",
       "      <td>19:11:00</td>\n",
       "      <td>22:40:00</td>\n",
       "    </tr>\n",
       "  </tbody>\n",
       "</table>\n",
       "</div>"
      ],
      "text/plain": [
       "     line_1    line_2    line_3    line_4    line_5    line_6    line_7  \\\n",
       "0  18:02:00  18:02:00  18:01:00  21:01:00  18:11:00  22:02:00  18:02:00   \n",
       "1  18:57:00  18:57:00  19:11:00  22:40:00  03:43:00  19:00:00  19:11:00   \n",
       "\n",
       "     line_8  \n",
       "0  21:01:00  \n",
       "1  22:40:00  "
      ]
     },
     "execution_count": 35,
     "metadata": {},
     "output_type": "execute_result"
    }
   ],
   "source": [
    "end_times"
   ]
  },
  {
   "cell_type": "code",
   "execution_count": 28,
   "metadata": {},
   "outputs": [],
   "source": [
    "nc.four_loads_branched_plot_linepct()"
   ]
  },
  {
   "cell_type": "code",
   "execution_count": 29,
   "metadata": {},
   "outputs": [],
   "source": [
    "nc.load_graph(nc.net, time_step=45)"
   ]
  },
  {
   "cell_type": "code",
   "execution_count": null,
   "metadata": {},
   "outputs": [],
   "source": []
  }
 ],
 "metadata": {
  "kernelspec": {
   "display_name": "Python 3.9.7 ('base')",
   "language": "python",
   "name": "python3"
  },
  "language_info": {
   "codemirror_mode": {
    "name": "ipython",
    "version": 3
   },
   "file_extension": ".py",
   "mimetype": "text/x-python",
   "name": "python",
   "nbconvert_exporter": "python",
   "pygments_lexer": "ipython3",
   "version": "3.9.7"
  },
  "orig_nbformat": 4,
  "vscode": {
   "interpreter": {
    "hash": "6def5470faae44f4518b425a4b3738447140b51def98969fb990afe68d0dcf30"
   }
  }
 },
 "nbformat": 4,
 "nbformat_minor": 2
}
