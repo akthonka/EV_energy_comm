{
 "cells": [
  {
   "cell_type": "code",
   "execution_count": 752,
   "metadata": {},
   "outputs": [],
   "source": [
    "import pandas as pd\n",
    "\n",
    "import pandapower as pp\n",
    "import pandapower.networks as pn\n",
    "import pandapower.plotting as plot\n",
    "from pandapower.timeseries import DFData\n",
    "from pandapower.timeseries import OutputWriter\n",
    "from pandapower.timeseries.run_time_series import run_timeseries\n",
    "from pandapower.control import ConstControl\n",
    "import matplotlib\n",
    "import matplotlib.pyplot as plt\n",
    "import matplotlib.dates as mdates\n",
    "matplotlib.rcParams['timezone'] = 'Europe/Berlin'\n",
    "\n",
    "import data_process_base\n",
    "import importlib\n",
    "importlib.reload(data_process_base)\n",
    "\n",
    "try:\n",
    "    import seaborn\n",
    "    colors = seaborn.color_palette()\n",
    "except:\n",
    "    colors = [\"b\", \"g\", \"r\", \"c\", \"y\"]"
   ]
  },
  {
   "cell_type": "code",
   "execution_count": 753,
   "metadata": {},
   "outputs": [
    {
     "ename": "KeyError",
     "evalue": "\"None of ['date_time'] are in the columns\"",
     "output_type": "error",
     "traceback": [
      "\u001b[1;31m---------------------------------------------------------------------------\u001b[0m",
      "\u001b[1;31mKeyError\u001b[0m                                  Traceback (most recent call last)",
      "\u001b[1;32m~\\AppData\\Local\\Temp/ipykernel_27132/2064226786.py\u001b[0m in \u001b[0;36m<module>\u001b[1;34m\u001b[0m\n\u001b[0;32m      6\u001b[0m              \u001b[1;34m'DE_KN_residential2_grid_import'\u001b[0m\u001b[1;33m,\u001b[0m\u001b[1;33m\u001b[0m\u001b[1;33m\u001b[0m\u001b[0m\n\u001b[0;32m      7\u001b[0m              'cet_cest_timestamp']\n\u001b[1;32m----> 8\u001b[1;33m \u001b[0mda\u001b[0m\u001b[1;33m.\u001b[0m\u001b[0mimp_procc\u001b[0m\u001b[1;33m(\u001b[0m\u001b[1;34m\"house_data.csv\"\u001b[0m\u001b[1;33m,\u001b[0m \u001b[0mkeep_cols\u001b[0m\u001b[1;33m)\u001b[0m\u001b[1;33m\u001b[0m\u001b[1;33m\u001b[0m\u001b[0m\n\u001b[0m",
      "\u001b[1;32mc:\\Users\\panto\\Documents\\git\\personal\\EV_energy_comm\\python\\data_process_base.py\u001b[0m in \u001b[0;36mimp_procc\u001b[1;34m(self, file_name, keep_cols)\u001b[0m\n\u001b[0;32m     63\u001b[0m     \u001b[1;31m# easy import, data filter and split\u001b[0m\u001b[1;33m\u001b[0m\u001b[1;33m\u001b[0m\u001b[0m\n\u001b[0;32m     64\u001b[0m     \u001b[0mself\u001b[0m\u001b[1;33m.\u001b[0m\u001b[0mdata_imp\u001b[0m\u001b[1;33m(\u001b[0m\u001b[0mfile_name\u001b[0m\u001b[1;33m)\u001b[0m\u001b[1;33m\u001b[0m\u001b[1;33m\u001b[0m\u001b[0m\n\u001b[1;32m---> 65\u001b[1;33m     \u001b[0mself\u001b[0m\u001b[1;33m.\u001b[0m\u001b[0mdata_filter\u001b[0m\u001b[1;33m(\u001b[0m\u001b[0mself\u001b[0m\u001b[1;33m.\u001b[0m\u001b[0mimp\u001b[0m\u001b[1;33m,\u001b[0m \u001b[0mkeep_cols\u001b[0m\u001b[1;33m)\u001b[0m\u001b[1;33m\u001b[0m\u001b[1;33m\u001b[0m\u001b[0m\n\u001b[0m\u001b[0;32m     66\u001b[0m     \u001b[0mself\u001b[0m\u001b[1;33m.\u001b[0m\u001b[0mdf_split\u001b[0m\u001b[1;33m(\u001b[0m\u001b[0mself\u001b[0m\u001b[1;33m.\u001b[0m\u001b[0mchunk_size\u001b[0m\u001b[1;33m)\u001b[0m\u001b[1;33m\u001b[0m\u001b[1;33m\u001b[0m\u001b[0m\n\u001b[0;32m     67\u001b[0m     \u001b[0mprint\u001b[0m\u001b[1;33m(\u001b[0m\u001b[1;34m\"dfList created successfully.\"\u001b[0m\u001b[1;33m)\u001b[0m\u001b[1;33m\u001b[0m\u001b[1;33m\u001b[0m\u001b[0m\n",
      "\u001b[1;32mc:\\Users\\panto\\Documents\\git\\personal\\EV_energy_comm\\python\\data_process_base.py\u001b[0m in \u001b[0;36mdata_filter\u001b[1;34m(self, df, keep_cols)\u001b[0m\n\u001b[0;32m     50\u001b[0m     \u001b[0mdf\u001b[0m\u001b[1;33m.\u001b[0m\u001b[0mdropna\u001b[0m\u001b[1;33m(\u001b[0m\u001b[0minplace\u001b[0m\u001b[1;33m=\u001b[0m\u001b[1;32mTrue\u001b[0m\u001b[1;33m)\u001b[0m\u001b[1;33m\u001b[0m\u001b[1;33m\u001b[0m\u001b[0m\n\u001b[0;32m     51\u001b[0m     \u001b[0mdf\u001b[0m\u001b[1;33m.\u001b[0m\u001b[0mrename\u001b[0m\u001b[1;33m(\u001b[0m\u001b[0mcolumns\u001b[0m \u001b[1;33m=\u001b[0m \u001b[1;33m{\u001b[0m\u001b[1;34m'utc_timestamp'\u001b[0m\u001b[1;33m:\u001b[0m\u001b[1;34m'date_time'\u001b[0m\u001b[1;33m}\u001b[0m\u001b[1;33m,\u001b[0m \u001b[0minplace\u001b[0m \u001b[1;33m=\u001b[0m \u001b[1;32mTrue\u001b[0m\u001b[1;33m)\u001b[0m\u001b[1;33m\u001b[0m\u001b[1;33m\u001b[0m\u001b[0m\n\u001b[1;32m---> 52\u001b[1;33m     \u001b[0mself\u001b[0m\u001b[1;33m.\u001b[0m\u001b[0mdf\u001b[0m \u001b[1;33m=\u001b[0m \u001b[0mdf\u001b[0m\u001b[1;33m.\u001b[0m\u001b[0mset_index\u001b[0m\u001b[1;33m(\u001b[0m\u001b[1;34m'date_time'\u001b[0m\u001b[1;33m)\u001b[0m\u001b[1;33m\u001b[0m\u001b[1;33m\u001b[0m\u001b[0m\n\u001b[0m\u001b[0;32m     53\u001b[0m \u001b[1;33m\u001b[0m\u001b[0m\n\u001b[0;32m     54\u001b[0m \u001b[1;33m\u001b[0m\u001b[0m\n",
      "\u001b[1;32mc:\\Users\\panto\\anaconda3\\lib\\site-packages\\pandas\\util\\_decorators.py\u001b[0m in \u001b[0;36mwrapper\u001b[1;34m(*args, **kwargs)\u001b[0m\n\u001b[0;32m    309\u001b[0m                     \u001b[0mstacklevel\u001b[0m\u001b[1;33m=\u001b[0m\u001b[0mstacklevel\u001b[0m\u001b[1;33m,\u001b[0m\u001b[1;33m\u001b[0m\u001b[1;33m\u001b[0m\u001b[0m\n\u001b[0;32m    310\u001b[0m                 )\n\u001b[1;32m--> 311\u001b[1;33m             \u001b[1;32mreturn\u001b[0m \u001b[0mfunc\u001b[0m\u001b[1;33m(\u001b[0m\u001b[1;33m*\u001b[0m\u001b[0margs\u001b[0m\u001b[1;33m,\u001b[0m \u001b[1;33m**\u001b[0m\u001b[0mkwargs\u001b[0m\u001b[1;33m)\u001b[0m\u001b[1;33m\u001b[0m\u001b[1;33m\u001b[0m\u001b[0m\n\u001b[0m\u001b[0;32m    312\u001b[0m \u001b[1;33m\u001b[0m\u001b[0m\n\u001b[0;32m    313\u001b[0m         \u001b[1;32mreturn\u001b[0m \u001b[0mwrapper\u001b[0m\u001b[1;33m\u001b[0m\u001b[1;33m\u001b[0m\u001b[0m\n",
      "\u001b[1;32mc:\\Users\\panto\\anaconda3\\lib\\site-packages\\pandas\\core\\frame.py\u001b[0m in \u001b[0;36mset_index\u001b[1;34m(self, keys, drop, append, inplace, verify_integrity)\u001b[0m\n\u001b[0;32m   5449\u001b[0m \u001b[1;33m\u001b[0m\u001b[0m\n\u001b[0;32m   5450\u001b[0m         \u001b[1;32mif\u001b[0m \u001b[0mmissing\u001b[0m\u001b[1;33m:\u001b[0m\u001b[1;33m\u001b[0m\u001b[1;33m\u001b[0m\u001b[0m\n\u001b[1;32m-> 5451\u001b[1;33m             \u001b[1;32mraise\u001b[0m \u001b[0mKeyError\u001b[0m\u001b[1;33m(\u001b[0m\u001b[1;34mf\"None of {missing} are in the columns\"\u001b[0m\u001b[1;33m)\u001b[0m\u001b[1;33m\u001b[0m\u001b[1;33m\u001b[0m\u001b[0m\n\u001b[0m\u001b[0;32m   5452\u001b[0m \u001b[1;33m\u001b[0m\u001b[0m\n\u001b[0;32m   5453\u001b[0m         \u001b[1;32mif\u001b[0m \u001b[0minplace\u001b[0m\u001b[1;33m:\u001b[0m\u001b[1;33m\u001b[0m\u001b[1;33m\u001b[0m\u001b[0m\n",
      "\u001b[1;31mKeyError\u001b[0m: \"None of ['date_time'] are in the columns\""
     ]
    }
   ],
   "source": [
    "# create random time series from import data\n",
    "da = data_process_base.DataAction()\n",
    "nc = data_process_base.net_calc()\n",
    "\n",
    "keep_cols = ['DE_KN_residential1_grid_import',\n",
    "             'DE_KN_residential2_grid_import',\n",
    "             'utc_timestamp']\n",
    "da.imp_procc(\"house_data.csv\", keep_cols)"
   ]
  },
  {
   "cell_type": "code",
   "execution_count": null,
   "metadata": {},
   "outputs": [],
   "source": [
    "import numpy as np\n",
    "\n",
    "night1, night2, ts1, ts2, date1, date2 = da.power_merge_test()\n",
    "\n",
    "for x in range(0, 1):  # try 2 times\n",
    "    try:\n",
    "        night2.index = night1.index\n",
    "    except Exception as str_error:\n",
    "        print(str_error)\n",
    "\n"
   ]
  },
  {
   "cell_type": "code",
   "execution_count": null,
   "metadata": {},
   "outputs": [
    {
     "data": {
      "text/html": [
       "<div>\n",
       "<style scoped>\n",
       "    .dataframe tbody tr th:only-of-type {\n",
       "        vertical-align: middle;\n",
       "    }\n",
       "\n",
       "    .dataframe tbody tr th {\n",
       "        vertical-align: top;\n",
       "    }\n",
       "\n",
       "    .dataframe thead th {\n",
       "        text-align: right;\n",
       "    }\n",
       "</style>\n",
       "<table border=\"1\" class=\"dataframe\">\n",
       "  <thead>\n",
       "    <tr style=\"text-align: right;\">\n",
       "      <th></th>\n",
       "      <th>DE_KN_residential1_grid_import</th>\n",
       "      <th>DE_KN_residential2_grid_import</th>\n",
       "    </tr>\n",
       "    <tr>\n",
       "      <th>date_time</th>\n",
       "      <th></th>\n",
       "      <th></th>\n",
       "    </tr>\n",
       "  </thead>\n",
       "  <tbody>\n",
       "    <tr>\n",
       "      <th>2015-09-02 15:40:00-04:00</th>\n",
       "      <td>0.007568</td>\n",
       "      <td>0.002502</td>\n",
       "    </tr>\n",
       "    <tr>\n",
       "      <th>2015-09-02 15:41:00-04:00</th>\n",
       "      <td>0.017578</td>\n",
       "      <td>0.002502</td>\n",
       "    </tr>\n",
       "    <tr>\n",
       "      <th>2015-09-02 15:42:00-04:00</th>\n",
       "      <td>0.010010</td>\n",
       "      <td>0.002502</td>\n",
       "    </tr>\n",
       "    <tr>\n",
       "      <th>2015-09-02 15:43:00-04:00</th>\n",
       "      <td>0.010010</td>\n",
       "      <td>0.005005</td>\n",
       "    </tr>\n",
       "    <tr>\n",
       "      <th>2015-09-02 15:44:00-04:00</th>\n",
       "      <td>0.020020</td>\n",
       "      <td>0.002502</td>\n",
       "    </tr>\n",
       "    <tr>\n",
       "      <th>...</th>\n",
       "      <td>...</td>\n",
       "      <td>...</td>\n",
       "    </tr>\n",
       "    <tr>\n",
       "      <th>2015-09-09 14:14:00-04:00</th>\n",
       "      <td>0.012451</td>\n",
       "      <td>0.015015</td>\n",
       "    </tr>\n",
       "    <tr>\n",
       "      <th>2015-09-09 14:15:00-04:00</th>\n",
       "      <td>0.005127</td>\n",
       "      <td>0.015015</td>\n",
       "    </tr>\n",
       "    <tr>\n",
       "      <th>2015-09-09 14:16:00-04:00</th>\n",
       "      <td>0.005127</td>\n",
       "      <td>0.022461</td>\n",
       "    </tr>\n",
       "    <tr>\n",
       "      <th>2015-09-09 14:17:00-04:00</th>\n",
       "      <td>0.015137</td>\n",
       "      <td>0.007446</td>\n",
       "    </tr>\n",
       "    <tr>\n",
       "      <th>2015-09-09 14:18:00-04:00</th>\n",
       "      <td>0.010010</td>\n",
       "      <td>0.007446</td>\n",
       "    </tr>\n",
       "  </tbody>\n",
       "</table>\n",
       "<p>9999 rows × 2 columns</p>\n",
       "</div>"
      ],
      "text/plain": [
       "                           DE_KN_residential1_grid_import  \\\n",
       "date_time                                                   \n",
       "2015-09-02 15:40:00-04:00                        0.007568   \n",
       "2015-09-02 15:41:00-04:00                        0.017578   \n",
       "2015-09-02 15:42:00-04:00                        0.010010   \n",
       "2015-09-02 15:43:00-04:00                        0.010010   \n",
       "2015-09-02 15:44:00-04:00                        0.020020   \n",
       "...                                                   ...   \n",
       "2015-09-09 14:14:00-04:00                        0.012451   \n",
       "2015-09-09 14:15:00-04:00                        0.005127   \n",
       "2015-09-09 14:16:00-04:00                        0.005127   \n",
       "2015-09-09 14:17:00-04:00                        0.015137   \n",
       "2015-09-09 14:18:00-04:00                        0.010010   \n",
       "\n",
       "                           DE_KN_residential2_grid_import  \n",
       "date_time                                                  \n",
       "2015-09-02 15:40:00-04:00                        0.002502  \n",
       "2015-09-02 15:41:00-04:00                        0.002502  \n",
       "2015-09-02 15:42:00-04:00                        0.002502  \n",
       "2015-09-02 15:43:00-04:00                        0.005005  \n",
       "2015-09-02 15:44:00-04:00                        0.002502  \n",
       "...                                                   ...  \n",
       "2015-09-09 14:14:00-04:00                        0.015015  \n",
       "2015-09-09 14:15:00-04:00                        0.015015  \n",
       "2015-09-09 14:16:00-04:00                        0.022461  \n",
       "2015-09-09 14:17:00-04:00                        0.007446  \n",
       "2015-09-09 14:18:00-04:00                        0.007446  \n",
       "\n",
       "[9999 rows x 2 columns]"
      ]
     },
     "execution_count": 751,
     "metadata": {},
     "output_type": "execute_result"
    }
   ],
   "source": [
    "ts1.tz_convert('UTC').index"
   ]
  },
  {
   "cell_type": "code",
   "execution_count": null,
   "metadata": {},
   "outputs": [
    {
     "data": {
      "text/html": [
       "<div>\n",
       "<style scoped>\n",
       "    .dataframe tbody tr th:only-of-type {\n",
       "        vertical-align: middle;\n",
       "    }\n",
       "\n",
       "    .dataframe tbody tr th {\n",
       "        vertical-align: top;\n",
       "    }\n",
       "\n",
       "    .dataframe thead th {\n",
       "        text-align: right;\n",
       "    }\n",
       "</style>\n",
       "<table border=\"1\" class=\"dataframe\">\n",
       "  <thead>\n",
       "    <tr style=\"text-align: right;\">\n",
       "      <th></th>\n",
       "      <th>DE_KN_residential1_grid_import</th>\n",
       "      <th>DE_KN_residential2_grid_import</th>\n",
       "    </tr>\n",
       "    <tr>\n",
       "      <th>date_time</th>\n",
       "      <th></th>\n",
       "      <th></th>\n",
       "    </tr>\n",
       "  </thead>\n",
       "  <tbody>\n",
       "    <tr>\n",
       "      <th>2015-09-02 19:40:00+00:00</th>\n",
       "      <td>0.007568</td>\n",
       "      <td>0.002502</td>\n",
       "    </tr>\n",
       "    <tr>\n",
       "      <th>2015-09-02 19:41:00+00:00</th>\n",
       "      <td>0.017578</td>\n",
       "      <td>0.002502</td>\n",
       "    </tr>\n",
       "    <tr>\n",
       "      <th>2015-09-02 19:42:00+00:00</th>\n",
       "      <td>0.010010</td>\n",
       "      <td>0.002502</td>\n",
       "    </tr>\n",
       "    <tr>\n",
       "      <th>2015-09-02 19:43:00+00:00</th>\n",
       "      <td>0.010010</td>\n",
       "      <td>0.005005</td>\n",
       "    </tr>\n",
       "    <tr>\n",
       "      <th>2015-09-02 19:44:00+00:00</th>\n",
       "      <td>0.020020</td>\n",
       "      <td>0.002502</td>\n",
       "    </tr>\n",
       "    <tr>\n",
       "      <th>...</th>\n",
       "      <td>...</td>\n",
       "      <td>...</td>\n",
       "    </tr>\n",
       "    <tr>\n",
       "      <th>2015-09-09 18:14:00+00:00</th>\n",
       "      <td>0.012451</td>\n",
       "      <td>0.015015</td>\n",
       "    </tr>\n",
       "    <tr>\n",
       "      <th>2015-09-09 18:15:00+00:00</th>\n",
       "      <td>0.005127</td>\n",
       "      <td>0.015015</td>\n",
       "    </tr>\n",
       "    <tr>\n",
       "      <th>2015-09-09 18:16:00+00:00</th>\n",
       "      <td>0.005127</td>\n",
       "      <td>0.022461</td>\n",
       "    </tr>\n",
       "    <tr>\n",
       "      <th>2015-09-09 18:17:00+00:00</th>\n",
       "      <td>0.015137</td>\n",
       "      <td>0.007446</td>\n",
       "    </tr>\n",
       "    <tr>\n",
       "      <th>2015-09-09 18:18:00+00:00</th>\n",
       "      <td>0.010010</td>\n",
       "      <td>0.007446</td>\n",
       "    </tr>\n",
       "  </tbody>\n",
       "</table>\n",
       "<p>9999 rows × 2 columns</p>\n",
       "</div>"
      ],
      "text/plain": [
       "                           DE_KN_residential1_grid_import  \\\n",
       "date_time                                                   \n",
       "2015-09-02 19:40:00+00:00                        0.007568   \n",
       "2015-09-02 19:41:00+00:00                        0.017578   \n",
       "2015-09-02 19:42:00+00:00                        0.010010   \n",
       "2015-09-02 19:43:00+00:00                        0.010010   \n",
       "2015-09-02 19:44:00+00:00                        0.020020   \n",
       "...                                                   ...   \n",
       "2015-09-09 18:14:00+00:00                        0.012451   \n",
       "2015-09-09 18:15:00+00:00                        0.005127   \n",
       "2015-09-09 18:16:00+00:00                        0.005127   \n",
       "2015-09-09 18:17:00+00:00                        0.015137   \n",
       "2015-09-09 18:18:00+00:00                        0.010010   \n",
       "\n",
       "                           DE_KN_residential2_grid_import  \n",
       "date_time                                                  \n",
       "2015-09-02 19:40:00+00:00                        0.002502  \n",
       "2015-09-02 19:41:00+00:00                        0.002502  \n",
       "2015-09-02 19:42:00+00:00                        0.002502  \n",
       "2015-09-02 19:43:00+00:00                        0.005005  \n",
       "2015-09-02 19:44:00+00:00                        0.002502  \n",
       "...                                                   ...  \n",
       "2015-09-09 18:14:00+00:00                        0.015015  \n",
       "2015-09-09 18:15:00+00:00                        0.015015  \n",
       "2015-09-09 18:16:00+00:00                        0.022461  \n",
       "2015-09-09 18:17:00+00:00                        0.007446  \n",
       "2015-09-09 18:18:00+00:00                        0.007446  \n",
       "\n",
       "[9999 rows x 2 columns]"
      ]
     },
     "execution_count": 736,
     "metadata": {},
     "output_type": "execute_result"
    }
   ],
   "source": [
    "ts1"
   ]
  },
  {
   "cell_type": "code",
   "execution_count": null,
   "metadata": {},
   "outputs": [
    {
     "data": {
      "text/plain": [
       "'2015-09-07 20:00:00'"
      ]
     },
     "execution_count": 737,
     "metadata": {},
     "output_type": "execute_result"
    }
   ],
   "source": [
    "evening_date = date1\n",
    "start_time = da.night_evening_t\n",
    "end_time = da.night_morning_t\n",
    "\n",
    "start = evening_date + ' ' + start_time\n",
    "start\n"
   ]
  },
  {
   "cell_type": "code",
   "execution_count": null,
   "metadata": {},
   "outputs": [
    {
     "data": {
      "text/plain": [
       "Timestamp('2016-08-03 00:00:00')"
      ]
     },
     "execution_count": 738,
     "metadata": {},
     "output_type": "execute_result"
    }
   ],
   "source": [
    "foo = pd.to_datetime(date2)\n",
    "foo"
   ]
  },
  {
   "cell_type": "code",
   "execution_count": null,
   "metadata": {},
   "outputs": [
    {
     "data": {
      "text/plain": [
       "Timestamp('2016-08-04 00:00:00')"
      ]
     },
     "execution_count": 739,
     "metadata": {},
     "output_type": "execute_result"
    }
   ],
   "source": [
    "from datetime import timedelta\n",
    "\n",
    "# end = str(foo + timedelta(days=1))[:11] + bar\n",
    "# end\n",
    "\n",
    "bar = foo + timedelta(days=1)\n",
    "bar"
   ]
  },
  {
   "cell_type": "code",
   "execution_count": null,
   "metadata": {},
   "outputs": [
    {
     "data": {
      "text/plain": [
       "'2016-08-04 06:00:00'"
      ]
     },
     "execution_count": 740,
     "metadata": {},
     "output_type": "execute_result"
    }
   ],
   "source": [
    "bar.replace(hour=int(da.night_morning_t[0:2]), minute=int(da.night_morning_t[3:5]), second=int(da.night_morning_t[6:8])).strftime('%Y-%m-%d %H:%M:%S')"
   ]
  },
  {
   "cell_type": "code",
   "execution_count": null,
   "metadata": {},
   "outputs": [
    {
     "data": {
      "text/html": [
       "<div>\n",
       "<style scoped>\n",
       "    .dataframe tbody tr th:only-of-type {\n",
       "        vertical-align: middle;\n",
       "    }\n",
       "\n",
       "    .dataframe tbody tr th {\n",
       "        vertical-align: top;\n",
       "    }\n",
       "\n",
       "    .dataframe thead th {\n",
       "        text-align: right;\n",
       "    }\n",
       "</style>\n",
       "<table border=\"1\" class=\"dataframe\">\n",
       "  <thead>\n",
       "    <tr style=\"text-align: right;\">\n",
       "      <th></th>\n",
       "      <th>DE_KN_residential1_grid_import</th>\n",
       "      <th>DE_KN_residential2_grid_import</th>\n",
       "    </tr>\n",
       "    <tr>\n",
       "      <th>date_time</th>\n",
       "      <th></th>\n",
       "      <th></th>\n",
       "    </tr>\n",
       "  </thead>\n",
       "  <tbody>\n",
       "  </tbody>\n",
       "</table>\n",
       "</div>"
      ],
      "text/plain": [
       "Empty DataFrame\n",
       "Columns: [DE_KN_residential1_grid_import, DE_KN_residential2_grid_import]\n",
       "Index: []"
      ]
     },
     "execution_count": 741,
     "metadata": {},
     "output_type": "execute_result"
    }
   ],
   "source": [
    "ts1.loc['2016-05-02 20:00:00': '2016-05-03 06:00:00']"
   ]
  },
  {
   "cell_type": "code",
   "execution_count": null,
   "metadata": {},
   "outputs": [
    {
     "data": {
      "text/plain": [
       "['2015-09-03',\n",
       " '2015-09-04',\n",
       " '2015-09-05',\n",
       " '2015-09-06',\n",
       " '2015-09-07',\n",
       " '2015-09-08']"
      ]
     },
     "execution_count": 742,
     "metadata": {},
     "output_type": "execute_result"
    }
   ],
   "source": [
    "da.unique_date(ts1)[1:-1]"
   ]
  },
  {
   "cell_type": "code",
   "execution_count": null,
   "metadata": {},
   "outputs": [],
   "source": [
    "def end_val_make(sgen_val, iter):\n",
    "    \"\"\"\n",
    "    Final boss\n",
    "\n",
    "    \"\"\"\n",
    "    # create df to store output\n",
    "    col_names = ['line_1', 'line_2', 'line_3', 'line_4', 'line_5', 'line_6', 'line_7', 'line_8']\n",
    "    end_val = pd.DataFrame(columns=col_names)\n",
    "\n",
    "    for i in range(0, iter):\n",
    "        # iterative scramble\n",
    "        night_merge = da.power_merge()\n",
    "\n",
    "        # assign generator value at random times\n",
    "        night_mw = da.sgen_comm(ts=night_merge, wind_length=60, sgen_val=sgen_val, parties=4)\n",
    "        # night_mw = da.sgen_rand(ts=night_merge, sgen_val=sgen_val)\n",
    "\n",
    "        nc.four_loads_branched_make(night_mw)\n",
    "        nc.four_loads_branched_out(\"res_line\", \"loading_percent\")\n",
    "        nc.four_loads_branched_run()\n",
    "        nc.four_loads_branched_read_loadpct()\n",
    "\n",
    "        nc.end_val_step(nc.ll, end_val)\n",
    "\n",
    "    return end_val\n",
    "\n",
    "\n",
    "iter = 5\n",
    "sgen_val = 0.01 # typical val: 0.010 MW = 10kW\n",
    "# end_val_make(sgen_val, iter)\n"
   ]
  },
  {
   "cell_type": "code",
   "execution_count": null,
   "metadata": {},
   "outputs": [],
   "source": [
    "# nc.four_loads_branched_plot_linepct()"
   ]
  },
  {
   "cell_type": "code",
   "execution_count": null,
   "metadata": {},
   "outputs": [],
   "source": [
    "# nc.load_graph(nc.net, time_step=45)"
   ]
  },
  {
   "cell_type": "code",
   "execution_count": null,
   "metadata": {},
   "outputs": [],
   "source": [
    "def end_times_make(df):\n",
    "    \"\"\"\n",
    "    append time vals to end_times df\n",
    "    \n",
    "    \"\"\"\n",
    "    # get inputs\n",
    "    col_names = df.columns.tolist()\n",
    "    max_ind = df.idxmax()\n",
    "    k = nc.night_mw.index.values[max_ind.tolist()]\n",
    "    max_time = pd.to_datetime(k).strftime('%H:%M:%S').tolist()\n",
    "\n",
    "    # create df to store output\n",
    "    end_times = pd.DataFrame(dtype='str', columns=col_names)\n",
    "    \n",
    "    # append series as last line\n",
    "    end_times.loc[end_times.shape[0]] = max_time\n",
    "\n",
    "    return end_times\n",
    "\n",
    "\n",
    "# end_times_make(nc.ll)"
   ]
  }
 ],
 "metadata": {
  "kernelspec": {
   "display_name": "Python 3.9.7 ('base')",
   "language": "python",
   "name": "python3"
  },
  "language_info": {
   "codemirror_mode": {
    "name": "ipython",
    "version": 3
   },
   "file_extension": ".py",
   "mimetype": "text/x-python",
   "name": "python",
   "nbconvert_exporter": "python",
   "pygments_lexer": "ipython3",
   "version": "3.9.7"
  },
  "orig_nbformat": 4,
  "vscode": {
   "interpreter": {
    "hash": "6def5470faae44f4518b425a4b3738447140b51def98969fb990afe68d0dcf30"
   }
  }
 },
 "nbformat": 4,
 "nbformat_minor": 2
}
