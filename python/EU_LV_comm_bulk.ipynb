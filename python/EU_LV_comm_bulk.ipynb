{
 "cells": [
  {
   "cell_type": "markdown",
   "metadata": {},
   "source": [
    "### Imports"
   ]
  },
  {
   "cell_type": "code",
   "execution_count": 1,
   "metadata": {},
   "outputs": [],
   "source": [
    "import pandas as pd\n",
    "import pandapower.networks as pn\n",
    "from pandapower.plotting.plotly import pf_res_plotly\n",
    "import data_process\n",
    "import importlib\n",
    "\n",
    "importlib.reload(data_process)\n",
    "\n",
    "da = data_process.DataAction()\n",
    "nc = data_process.net_calc()"
   ]
  },
  {
   "cell_type": "markdown",
   "metadata": {},
   "source": [
    "### Initial processing"
   ]
  },
  {
   "cell_type": "code",
   "execution_count": 2,
   "metadata": {},
   "outputs": [],
   "source": [
    "def initiate():\n",
    "    da.folder_path = r\"G:\\\\My Drive\\\\docs\\\\Education\\\\University\\\\ALUF\\\\SSE\\\\6 sem\\\\Bachelor Thesis\\\\data\\\\\"\n",
    "    keep_cols = ['DE_KN_residential1_grid_import',\n",
    "                'DE_KN_residential2_grid_import',\n",
    "                'utc_timestamp']\n",
    "    da.imp_procc(\"house_data.csv\", keep_cols)\n",
    "\n",
    "    # prepare network\n",
    "    net = pn.ieee_european_lv_asymmetric(\"off_peak_1440\")\n",
    "\n",
    "    # set asymmetric loads to zero\n",
    "    for asy_load in net.asymmetric_load.name.tolist():\n",
    "        net.asymmetric_load.p_a_mw = 0\n",
    "        net.asymmetric_load.p_b_mw = 0\n",
    "        net.asymmetric_load.p_c_mw = 0\n",
    "        net.asymmetric_load.q_a_mvar = 0\n",
    "        net.asymmetric_load.q_b_mvar = 0\n",
    "        net.asymmetric_load.q_c_mvar = 0\n",
    "\n",
    "    print(\"Min vm_pu bus val with no loads or sgens:\", net.res_bus.vm_pu.min())\n",
    "    return net"
   ]
  },
  {
   "cell_type": "code",
   "execution_count": 3,
   "metadata": {},
   "outputs": [],
   "source": [
    "def iterate(net):\n",
    "    \"\"\"common run\"\"\"\n",
    "\n",
    "    sgen_val = 0.010\n",
    "    scaling_fac = 0.7 # without it, the network underloads\n",
    "    nmbr_loads = net.asymmetric_load.shape[0]\n",
    "\n",
    "    da.load_sgen_make(nmbr_loads)\n",
    "    start_times = da.get_start_times(nmbr_loads)\n",
    "    da.sgen_comm(start_times, sgen_val)\n",
    "    nc.net_asym_prep(net, da.night_loads * scaling_fac, da.night_sgens)\n",
    "    nc.output_writer('res_bus', 'vm_pu')\n",
    "    nc.ts_run()"
   ]
  },
  {
   "cell_type": "code",
   "execution_count": 4,
   "metadata": {},
   "outputs": [
    {
     "name": "stdout",
     "output_type": "stream",
     "text": [
      "Number of data frame segments =  90\n",
      "dfList created successfully.\n",
      "Min vm_pu bus val with no loads or sgens: 1.049997179004859\n"
     ]
    },
    {
     "name": "stderr",
     "output_type": "stream",
     "text": [
      "100%|██████████| 721/721 [00:24<00:00, 29.07it/s] \n"
     ]
    },
    {
     "name": "stdout",
     "output_type": "stream",
     "text": [
      "All-time min-load value across all busses: 1.02566\n",
      "All-time min-load time across all busses: 44 , 18:44:00\n",
      "Number of data frame segments =  180\n",
      "dfList created successfully.\n",
      "Min vm_pu bus val with no loads or sgens: 1.049997179004859\n",
      "Length mismatch: Expected axis has 781 elements, new values have 721 elements\n",
      "whoops...\n",
      "Number of data frame segments =  270\n",
      "dfList created successfully.\n",
      "Min vm_pu bus val with no loads or sgens: 1.049997179004859\n"
     ]
    },
    {
     "name": "stderr",
     "output_type": "stream",
     "text": [
      "100%|██████████| 721/721 [00:21<00:00, 33.57it/s] \n"
     ]
    },
    {
     "name": "stdout",
     "output_type": "stream",
     "text": [
      "All-time min-load value across all busses: 1.02589\n",
      "All-time min-load time across all busses: 49 , 18:49:00\n",
      "Number of data frame segments =  360\n",
      "dfList created successfully.\n",
      "Min vm_pu bus val with no loads or sgens: 1.049997179004859\n"
     ]
    },
    {
     "name": "stderr",
     "output_type": "stream",
     "text": [
      "100%|██████████| 721/721 [00:21<00:00, 32.99it/s] \n"
     ]
    },
    {
     "name": "stdout",
     "output_type": "stream",
     "text": [
      "All-time min-load value across all busses: 1.026\n",
      "All-time min-load time across all busses: 37 , 18:37:00\n",
      "Number of data frame segments =  450\n",
      "dfList created successfully.\n",
      "Min vm_pu bus val with no loads or sgens: 1.049997179004859\n"
     ]
    },
    {
     "name": "stderr",
     "output_type": "stream",
     "text": [
      "100%|██████████| 721/721 [00:22<00:00, 32.18it/s] \n"
     ]
    },
    {
     "name": "stdout",
     "output_type": "stream",
     "text": [
      "All-time min-load value across all busses: 1.02403\n",
      "All-time min-load time across all busses: 21 , 18:21:00\n",
      "Number of data frame segments =  540\n",
      "dfList created successfully.\n",
      "Min vm_pu bus val with no loads or sgens: 1.049997179004859\n"
     ]
    },
    {
     "name": "stderr",
     "output_type": "stream",
     "text": [
      "100%|██████████| 721/721 [00:22<00:00, 32.72it/s] \n"
     ]
    },
    {
     "name": "stdout",
     "output_type": "stream",
     "text": [
      "All-time min-load value across all busses: 1.02529\n",
      "All-time min-load time across all busses: 12 , 18:12:00\n",
      "Number of data frame segments =  630\n",
      "dfList created successfully.\n",
      "Min vm_pu bus val with no loads or sgens: 1.049997179004859\n"
     ]
    },
    {
     "name": "stderr",
     "output_type": "stream",
     "text": [
      "100%|██████████| 721/721 [00:22<00:00, 32.60it/s] \n"
     ]
    },
    {
     "name": "stdout",
     "output_type": "stream",
     "text": [
      "All-time min-load value across all busses: 1.02518\n",
      "All-time min-load time across all busses: 31 , 18:31:00\n",
      "Number of data frame segments =  720\n",
      "dfList created successfully.\n",
      "Min vm_pu bus val with no loads or sgens: 1.049997179004859\n"
     ]
    },
    {
     "name": "stderr",
     "output_type": "stream",
     "text": [
      "100%|██████████| 721/721 [00:21<00:00, 33.05it/s] \n"
     ]
    },
    {
     "name": "stdout",
     "output_type": "stream",
     "text": [
      "All-time min-load value across all busses: 1.02533\n",
      "All-time min-load time across all busses: 36 , 18:36:00\n",
      "Number of data frame segments =  810\n",
      "dfList created successfully.\n",
      "Min vm_pu bus val with no loads or sgens: 1.049997179004859\n"
     ]
    },
    {
     "name": "stderr",
     "output_type": "stream",
     "text": [
      "100%|██████████| 721/721 [00:22<00:00, 32.02it/s] \n"
     ]
    },
    {
     "name": "stdout",
     "output_type": "stream",
     "text": [
      "All-time min-load value across all busses: 1.02415\n",
      "All-time min-load time across all busses: 33 , 18:33:00\n",
      "Number of data frame segments =  900\n",
      "dfList created successfully.\n",
      "Min vm_pu bus val with no loads or sgens: 1.049997179004859\n"
     ]
    },
    {
     "name": "stderr",
     "output_type": "stream",
     "text": [
      "100%|██████████| 721/721 [00:22<00:00, 32.73it/s] \n"
     ]
    },
    {
     "name": "stdout",
     "output_type": "stream",
     "text": [
      "All-time min-load value across all busses: 1.02672\n",
      "All-time min-load time across all busses: 12 , 18:12:00\n",
      "Number of data frame segments =  990\n",
      "dfList created successfully.\n",
      "Min vm_pu bus val with no loads or sgens: 1.049997179004859\n"
     ]
    },
    {
     "name": "stderr",
     "output_type": "stream",
     "text": [
      "100%|██████████| 721/721 [00:22<00:00, 32.33it/s] \n"
     ]
    },
    {
     "name": "stdout",
     "output_type": "stream",
     "text": [
      "All-time min-load value across all busses: 1.02312\n",
      "All-time min-load time across all busses: 58 , 18:58:00\n"
     ]
    },
    {
     "data": {
      "text/html": [
       "<div>\n",
       "<style scoped>\n",
       "    .dataframe tbody tr th:only-of-type {\n",
       "        vertical-align: middle;\n",
       "    }\n",
       "\n",
       "    .dataframe tbody tr th {\n",
       "        vertical-align: top;\n",
       "    }\n",
       "\n",
       "    .dataframe thead th {\n",
       "        text-align: right;\n",
       "    }\n",
       "</style>\n",
       "<table border=\"1\" class=\"dataframe\">\n",
       "  <thead>\n",
       "    <tr style=\"text-align: right;\">\n",
       "      <th></th>\n",
       "      <th>min load val</th>\n",
       "      <th>min load time</th>\n",
       "    </tr>\n",
       "  </thead>\n",
       "  <tbody>\n",
       "    <tr>\n",
       "      <th>0</th>\n",
       "      <td>1.02566</td>\n",
       "      <td>18:44:00</td>\n",
       "    </tr>\n",
       "    <tr>\n",
       "      <th>1</th>\n",
       "      <td>1.02589</td>\n",
       "      <td>18:49:00</td>\n",
       "    </tr>\n",
       "    <tr>\n",
       "      <th>2</th>\n",
       "      <td>1.02600</td>\n",
       "      <td>18:37:00</td>\n",
       "    </tr>\n",
       "    <tr>\n",
       "      <th>3</th>\n",
       "      <td>1.02403</td>\n",
       "      <td>18:21:00</td>\n",
       "    </tr>\n",
       "    <tr>\n",
       "      <th>4</th>\n",
       "      <td>1.02529</td>\n",
       "      <td>18:12:00</td>\n",
       "    </tr>\n",
       "    <tr>\n",
       "      <th>5</th>\n",
       "      <td>1.02518</td>\n",
       "      <td>18:31:00</td>\n",
       "    </tr>\n",
       "    <tr>\n",
       "      <th>6</th>\n",
       "      <td>1.02533</td>\n",
       "      <td>18:36:00</td>\n",
       "    </tr>\n",
       "    <tr>\n",
       "      <th>7</th>\n",
       "      <td>1.02415</td>\n",
       "      <td>18:33:00</td>\n",
       "    </tr>\n",
       "    <tr>\n",
       "      <th>8</th>\n",
       "      <td>1.02672</td>\n",
       "      <td>18:12:00</td>\n",
       "    </tr>\n",
       "    <tr>\n",
       "      <th>9</th>\n",
       "      <td>1.02312</td>\n",
       "      <td>18:58:00</td>\n",
       "    </tr>\n",
       "  </tbody>\n",
       "</table>\n",
       "</div>"
      ],
      "text/plain": [
       "   min load val min load time\n",
       "0       1.02566      18:44:00\n",
       "1       1.02589      18:49:00\n",
       "2       1.02600      18:37:00\n",
       "3       1.02403      18:21:00\n",
       "4       1.02529      18:12:00\n",
       "5       1.02518      18:31:00\n",
       "6       1.02533      18:36:00\n",
       "7       1.02415      18:33:00\n",
       "8       1.02672      18:12:00\n",
       "9       1.02312      18:58:00"
      ]
     },
     "execution_count": 4,
     "metadata": {},
     "output_type": "execute_result"
    }
   ],
   "source": [
    "def simulate(cycles):\n",
    "    # main loop\n",
    "    min_vm_list = []\n",
    "    min_time_list = []\n",
    "    for i in range(cycles):\n",
    "        while True:\n",
    "            try:\n",
    "                net = initiate()\n",
    "                iterate(net)\n",
    "                break\n",
    "            except Exception as e:\n",
    "                print(e)\n",
    "                print(\"whoops...\")\n",
    "            \n",
    "        vm_pu = nc.read_output()\n",
    "        min_min_vm, min_min_ind, min_time = nc.vm_stats(vm_pu)\n",
    "        min_vm_list.append(pd.Series(min_min_vm, name=\"min load val\"))\n",
    "        min_time_list.append(pd.Series(min_time, name=\"min load time\"))\n",
    "\n",
    "    res1 = pd.concat((min_vm_list))\n",
    "    res2 = pd.concat((min_time_list))\n",
    "    res = pd.concat((res1, res2), axis=1)\n",
    "    res.index = range(len(res))\n",
    "\n",
    "    return res\n",
    "\n",
    "cycles = 10\n",
    "res = simulate(cycles)\n",
    "res"
   ]
  },
  {
   "cell_type": "code",
   "execution_count": 5,
   "metadata": {},
   "outputs": [],
   "source": [
    "path = \"..\\\\results\\\\\" \n",
    "name = \"simulation_res.xlsx\"\n",
    "full = path + name\n",
    "res.to_excel(full)"
   ]
  }
 ],
 "metadata": {
  "kernelspec": {
   "display_name": "Python 3.9.7 ('base')",
   "language": "python",
   "name": "python3"
  },
  "language_info": {
   "codemirror_mode": {
    "name": "ipython",
    "version": 3
   },
   "file_extension": ".py",
   "mimetype": "text/x-python",
   "name": "python",
   "nbconvert_exporter": "python",
   "pygments_lexer": "ipython3",
   "version": "3.9.12"
  },
  "orig_nbformat": 4,
  "vscode": {
   "interpreter": {
    "hash": "6def5470faae44f4518b425a4b3738447140b51def98969fb990afe68d0dcf30"
   }
  }
 },
 "nbformat": 4,
 "nbformat_minor": 2
}
