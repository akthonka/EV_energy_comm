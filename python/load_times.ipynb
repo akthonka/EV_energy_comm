{
 "cells": [
  {
   "cell_type": "code",
   "execution_count": 1,
   "metadata": {},
   "outputs": [
    {
     "data": {
      "text/plain": [
       "<module 'data_process' from 'c:\\\\Users\\\\panto\\\\Documents\\\\git\\\\personal\\\\EV_energy_comm\\\\python\\\\data_process.py'>"
      ]
     },
     "execution_count": 1,
     "metadata": {},
     "output_type": "execute_result"
    }
   ],
   "source": [
    "import pandas as pd\n",
    "import numpy as np\n",
    "\n",
    "import data_process\n",
    "import importlib\n",
    "importlib.reload(data_process)"
   ]
  },
  {
   "cell_type": "code",
   "execution_count": 2,
   "metadata": {},
   "outputs": [
    {
     "name": "stdout",
     "output_type": "stream",
     "text": [
      "dfList created successfully.\n"
     ]
    }
   ],
   "source": [
    "# create random time series from import data\n",
    "da = data_process.DataAction()\n",
    "nc = data_process.net_calc()\n",
    "\n",
    "da.folder_path = r\"G:\\\\My Drive\\\\docs\\\\Education\\\\University\\\\ALUF\\\\SSE\\\\6 sem\\\\Bachelor Thesis\\\\data\\\\\"\n",
    "keep_cols = ['DE_KN_residential1_grid_import',\n",
    "             'DE_KN_residential2_grid_import',\n",
    "             'utc_timestamp']\n",
    "da.imp_procc(\"house_data.csv\", keep_cols)"
   ]
  },
  {
   "cell_type": "code",
   "execution_count": 3,
   "metadata": {},
   "outputs": [
    {
     "data": {
      "text/plain": [
       "Timedelta('618 days 01:18:00')"
      ]
     },
     "execution_count": 3,
     "metadata": {},
     "output_type": "execute_result"
    }
   ],
   "source": [
    "# used dataset size\n",
    "pd.to_datetime(da.dfList[88].iloc[-1].name)-pd.to_datetime(da.dfList[0].iloc[1].name)"
   ]
  },
  {
   "cell_type": "code",
   "execution_count": 4,
   "metadata": {},
   "outputs": [],
   "source": [
    "# broaden loc times\n",
    "da.night_evening_t = '18:00:00'\n",
    "da.night_morning_t = '06:00:00'"
   ]
  },
  {
   "cell_type": "code",
   "execution_count": 5,
   "metadata": {},
   "outputs": [],
   "source": [
    "def night_list(dfList_val):\n",
    "    \"\"\"create df list of nights for single dfList list\"\"\"\n",
    "\n",
    "    ts_nights = []\n",
    "    for i in da.unique_date(dfList_val)[:-1]: # last date has no morning time, is dropped\n",
    "        night = da.get_night(dfList_val,i)\n",
    "        ts_nights.append(night)\n",
    "\n",
    "    return ts_nights"
   ]
  },
  {
   "cell_type": "markdown",
   "metadata": {},
   "source": [
    "### Maxes"
   ]
  },
  {
   "cell_type": "code",
   "execution_count": 44,
   "metadata": {},
   "outputs": [],
   "source": [
    "def max_datetimes_concat(ts_nights):\n",
    "    \"\"\"write max times from ts_night to max_datetimes df\"\"\"\n",
    "\n",
    "    concat_list = []\n",
    "    for i in range(len(ts_nights)):\n",
    "        concat_list.append(pd.Series(ts_nights[i].idxmax()))\n",
    "\n",
    "    max_datetimes=pd.concat((concat_list), axis=1).transpose()\n",
    "\n",
    "    return max_datetimes"
   ]
  },
  {
   "cell_type": "code",
   "execution_count": 45,
   "metadata": {},
   "outputs": [
    {
     "data": {
      "text/html": [
       "<div>\n",
       "<style scoped>\n",
       "    .dataframe tbody tr th:only-of-type {\n",
       "        vertical-align: middle;\n",
       "    }\n",
       "\n",
       "    .dataframe tbody tr th {\n",
       "        vertical-align: top;\n",
       "    }\n",
       "\n",
       "    .dataframe thead th {\n",
       "        text-align: right;\n",
       "    }\n",
       "</style>\n",
       "<table border=\"1\" class=\"dataframe\">\n",
       "  <thead>\n",
       "    <tr style=\"text-align: right;\">\n",
       "      <th></th>\n",
       "      <th>DE_KN_residential1_grid_import</th>\n",
       "      <th>DE_KN_residential2_grid_import</th>\n",
       "    </tr>\n",
       "  </thead>\n",
       "  <tbody>\n",
       "    <tr>\n",
       "      <th>0</th>\n",
       "      <td>2015-05-21 19:06:00+02:00</td>\n",
       "      <td>2015-05-21 18:04:00+02:00</td>\n",
       "    </tr>\n",
       "    <tr>\n",
       "      <th>1</th>\n",
       "      <td>2015-05-22 20:09:00+02:00</td>\n",
       "      <td>2015-05-22 20:46:00+02:00</td>\n",
       "    </tr>\n",
       "    <tr>\n",
       "      <th>2</th>\n",
       "      <td>2015-05-23 20:54:00+02:00</td>\n",
       "      <td>2015-05-23 21:25:00+02:00</td>\n",
       "    </tr>\n",
       "    <tr>\n",
       "      <th>3</th>\n",
       "      <td>2015-05-24 22:45:00+02:00</td>\n",
       "      <td>2015-05-25 00:54:00+02:00</td>\n",
       "    </tr>\n",
       "    <tr>\n",
       "      <th>4</th>\n",
       "      <td>2015-05-25 21:57:00+02:00</td>\n",
       "      <td>2015-05-25 21:00:00+02:00</td>\n",
       "    </tr>\n",
       "  </tbody>\n",
       "</table>\n",
       "</div>"
      ],
      "text/plain": [
       "  DE_KN_residential1_grid_import DE_KN_residential2_grid_import\n",
       "0      2015-05-21 19:06:00+02:00      2015-05-21 18:04:00+02:00\n",
       "1      2015-05-22 20:09:00+02:00      2015-05-22 20:46:00+02:00\n",
       "2      2015-05-23 20:54:00+02:00      2015-05-23 21:25:00+02:00\n",
       "3      2015-05-24 22:45:00+02:00      2015-05-25 00:54:00+02:00\n",
       "4      2015-05-25 21:57:00+02:00      2015-05-25 21:00:00+02:00"
      ]
     },
     "execution_count": 45,
     "metadata": {},
     "output_type": "execute_result"
    }
   ],
   "source": [
    "max_datetimes = pd.DataFrame()\n",
    "parse_max = []\n",
    "\n",
    "for i in range(len(da.dfList)):\n",
    "    ts = da.parse_procc(da.dfList[i]).rolling(10).sum()\n",
    "    ts_nights = night_list(ts)\n",
    "    parse_max.append(max_datetimes_concat(ts_nights))\n",
    "\n",
    "max_datetimes = pd.concat((parse_max))\n",
    "max_datetimes.head()"
   ]
  },
  {
   "cell_type": "code",
   "execution_count": 46,
   "metadata": {},
   "outputs": [
    {
     "name": "stdout",
     "output_type": "stream",
     "text": [
      "Global max load time mean:\n",
      "19:23:00\n"
     ]
    },
    {
     "data": {
      "text/html": [
       "<div>\n",
       "<style scoped>\n",
       "    .dataframe tbody tr th:only-of-type {\n",
       "        vertical-align: middle;\n",
       "    }\n",
       "\n",
       "    .dataframe tbody tr th {\n",
       "        vertical-align: top;\n",
       "    }\n",
       "\n",
       "    .dataframe thead th {\n",
       "        text-align: right;\n",
       "    }\n",
       "</style>\n",
       "<table border=\"1\" class=\"dataframe\">\n",
       "  <thead>\n",
       "    <tr style=\"text-align: right;\">\n",
       "      <th></th>\n",
       "      <th>DE_KN_residential1_grid_import</th>\n",
       "      <th>DE_KN_residential2_grid_import</th>\n",
       "    </tr>\n",
       "  </thead>\n",
       "  <tbody>\n",
       "    <tr>\n",
       "      <th>count</th>\n",
       "      <td>622</td>\n",
       "      <td>622</td>\n",
       "    </tr>\n",
       "    <tr>\n",
       "      <th>mean</th>\n",
       "      <td>2016-03-27 09:12:15.916398592+02:00</td>\n",
       "      <td>2016-03-27 08:39:41.575562752+02:00</td>\n",
       "    </tr>\n",
       "    <tr>\n",
       "      <th>min</th>\n",
       "      <td>2015-05-21 19:06:00+02:00</td>\n",
       "      <td>2015-05-21 18:04:00+02:00</td>\n",
       "    </tr>\n",
       "    <tr>\n",
       "      <th>25%</th>\n",
       "      <td>2015-10-24 02:14:30+02:00</td>\n",
       "      <td>2015-10-24 02:57:00+02:00</td>\n",
       "    </tr>\n",
       "    <tr>\n",
       "      <th>50%</th>\n",
       "      <td>2016-03-27 09:08:30+02:00</td>\n",
       "      <td>2016-03-27 09:36:30+02:00</td>\n",
       "    </tr>\n",
       "    <tr>\n",
       "      <th>75%</th>\n",
       "      <td>2016-08-29 14:48:30+02:00</td>\n",
       "      <td>2016-08-29 12:57:00+02:00</td>\n",
       "    </tr>\n",
       "    <tr>\n",
       "      <th>max</th>\n",
       "      <td>2017-01-31 19:51:00+01:00</td>\n",
       "      <td>2017-01-31 18:55:00+01:00</td>\n",
       "    </tr>\n",
       "  </tbody>\n",
       "</table>\n",
       "</div>"
      ],
      "text/plain": [
       "            DE_KN_residential1_grid_import  \\\n",
       "count                                  622   \n",
       "mean   2016-03-27 09:12:15.916398592+02:00   \n",
       "min              2015-05-21 19:06:00+02:00   \n",
       "25%              2015-10-24 02:14:30+02:00   \n",
       "50%              2016-03-27 09:08:30+02:00   \n",
       "75%              2016-08-29 14:48:30+02:00   \n",
       "max              2017-01-31 19:51:00+01:00   \n",
       "\n",
       "            DE_KN_residential2_grid_import  \n",
       "count                                  622  \n",
       "mean   2016-03-27 08:39:41.575562752+02:00  \n",
       "min              2015-05-21 18:04:00+02:00  \n",
       "25%              2015-10-24 02:57:00+02:00  \n",
       "50%              2016-03-27 09:36:30+02:00  \n",
       "75%              2016-08-29 12:57:00+02:00  \n",
       "max              2017-01-31 18:55:00+01:00  "
      ]
     },
     "execution_count": 46,
     "metadata": {},
     "output_type": "execute_result"
    }
   ],
   "source": [
    "print(\"Global max load time mean:\")\n",
    "print(np.mean(max_datetimes.max()).strftime(\"%H:%M:%S\"))\n",
    "max_datetimes.describe(datetime_is_numeric=True)"
   ]
  },
  {
   "cell_type": "markdown",
   "metadata": {},
   "source": [
    "### Mins"
   ]
  },
  {
   "cell_type": "code",
   "execution_count": 47,
   "metadata": {},
   "outputs": [],
   "source": [
    "def min_datetimes_concat(ts_nights):\n",
    "    \"\"\"write min times from ts_night to min_datetimes df\"\"\"\n",
    "\n",
    "    concat_list = []\n",
    "    for i in range(len(ts_nights)):\n",
    "        concat_list.append(pd.Series(ts_nights[i].idxmin()))\n",
    "\n",
    "    min_datetimes=pd.concat((concat_list), axis=1).transpose()\n",
    "\n",
    "    return min_datetimes"
   ]
  },
  {
   "cell_type": "code",
   "execution_count": 48,
   "metadata": {},
   "outputs": [
    {
     "data": {
      "text/html": [
       "<div>\n",
       "<style scoped>\n",
       "    .dataframe tbody tr th:only-of-type {\n",
       "        vertical-align: middle;\n",
       "    }\n",
       "\n",
       "    .dataframe tbody tr th {\n",
       "        vertical-align: top;\n",
       "    }\n",
       "\n",
       "    .dataframe thead th {\n",
       "        text-align: right;\n",
       "    }\n",
       "</style>\n",
       "<table border=\"1\" class=\"dataframe\">\n",
       "  <thead>\n",
       "    <tr style=\"text-align: right;\">\n",
       "      <th></th>\n",
       "      <th>DE_KN_residential1_grid_import</th>\n",
       "      <th>DE_KN_residential2_grid_import</th>\n",
       "    </tr>\n",
       "  </thead>\n",
       "  <tbody>\n",
       "    <tr>\n",
       "      <th>0</th>\n",
       "      <td>2015-05-22 03:11:00+02:00</td>\n",
       "      <td>2015-05-22 01:41:00+02:00</td>\n",
       "    </tr>\n",
       "    <tr>\n",
       "      <th>1</th>\n",
       "      <td>2015-05-22 20:49:00+02:00</td>\n",
       "      <td>2015-05-22 22:11:00+02:00</td>\n",
       "    </tr>\n",
       "    <tr>\n",
       "      <th>2</th>\n",
       "      <td>2015-05-24 03:10:00+02:00</td>\n",
       "      <td>2015-05-23 18:02:00+02:00</td>\n",
       "    </tr>\n",
       "    <tr>\n",
       "      <th>3</th>\n",
       "      <td>2015-05-24 20:14:00+02:00</td>\n",
       "      <td>2015-05-24 18:26:00+02:00</td>\n",
       "    </tr>\n",
       "    <tr>\n",
       "      <th>4</th>\n",
       "      <td>2015-05-26 01:26:00+02:00</td>\n",
       "      <td>2015-05-25 18:13:00+02:00</td>\n",
       "    </tr>\n",
       "  </tbody>\n",
       "</table>\n",
       "</div>"
      ],
      "text/plain": [
       "  DE_KN_residential1_grid_import DE_KN_residential2_grid_import\n",
       "0      2015-05-22 03:11:00+02:00      2015-05-22 01:41:00+02:00\n",
       "1      2015-05-22 20:49:00+02:00      2015-05-22 22:11:00+02:00\n",
       "2      2015-05-24 03:10:00+02:00      2015-05-23 18:02:00+02:00\n",
       "3      2015-05-24 20:14:00+02:00      2015-05-24 18:26:00+02:00\n",
       "4      2015-05-26 01:26:00+02:00      2015-05-25 18:13:00+02:00"
      ]
     },
     "execution_count": 48,
     "metadata": {},
     "output_type": "execute_result"
    }
   ],
   "source": [
    "min_datetimes = pd.DataFrame()\n",
    "parse_min = []\n",
    "\n",
    "for i in range(len(da.dfList)):\n",
    "    ts = da.parse_procc(da.dfList[i]).rolling(10).sum()\n",
    "    ts_nights = night_list(ts)\n",
    "    parse_min.append(min_datetimes_concat(ts_nights))\n",
    "\n",
    "min_datetimes = pd.concat((parse_min))\n",
    "min_datetimes.head()"
   ]
  },
  {
   "cell_type": "code",
   "execution_count": 49,
   "metadata": {},
   "outputs": [
    {
     "name": "stdout",
     "output_type": "stream",
     "text": [
      "Global min load time mean:\n",
      "02:26:00\n"
     ]
    },
    {
     "data": {
      "text/html": [
       "<div>\n",
       "<style scoped>\n",
       "    .dataframe tbody tr th:only-of-type {\n",
       "        vertical-align: middle;\n",
       "    }\n",
       "\n",
       "    .dataframe tbody tr th {\n",
       "        vertical-align: top;\n",
       "    }\n",
       "\n",
       "    .dataframe thead th {\n",
       "        text-align: right;\n",
       "    }\n",
       "</style>\n",
       "<table border=\"1\" class=\"dataframe\">\n",
       "  <thead>\n",
       "    <tr style=\"text-align: right;\">\n",
       "      <th></th>\n",
       "      <th>DE_KN_residential1_grid_import</th>\n",
       "      <th>DE_KN_residential2_grid_import</th>\n",
       "    </tr>\n",
       "  </thead>\n",
       "  <tbody>\n",
       "    <tr>\n",
       "      <th>count</th>\n",
       "      <td>622</td>\n",
       "      <td>622</td>\n",
       "    </tr>\n",
       "    <tr>\n",
       "      <th>mean</th>\n",
       "      <td>2016-03-27 13:44:23.633440512+02:00</td>\n",
       "      <td>2016-03-27 12:52:11.575562496+02:00</td>\n",
       "    </tr>\n",
       "    <tr>\n",
       "      <th>min</th>\n",
       "      <td>2015-05-22 03:11:00+02:00</td>\n",
       "      <td>2015-05-22 01:41:00+02:00</td>\n",
       "    </tr>\n",
       "    <tr>\n",
       "      <th>25%</th>\n",
       "      <td>2015-10-24 11:20:00+02:00</td>\n",
       "      <td>2015-10-24 06:03:30+02:00</td>\n",
       "    </tr>\n",
       "    <tr>\n",
       "      <th>50%</th>\n",
       "      <td>2016-03-27 16:02:30+02:00</td>\n",
       "      <td>2016-03-27 13:16:30+02:00</td>\n",
       "    </tr>\n",
       "    <tr>\n",
       "      <th>75%</th>\n",
       "      <td>2016-08-29 19:09:45+02:00</td>\n",
       "      <td>2016-08-29 17:29:45+02:00</td>\n",
       "    </tr>\n",
       "    <tr>\n",
       "      <th>max</th>\n",
       "      <td>2017-02-01 01:04:00+01:00</td>\n",
       "      <td>2017-02-01 01:36:00+01:00</td>\n",
       "    </tr>\n",
       "  </tbody>\n",
       "</table>\n",
       "</div>"
      ],
      "text/plain": [
       "            DE_KN_residential1_grid_import  \\\n",
       "count                                  622   \n",
       "mean   2016-03-27 13:44:23.633440512+02:00   \n",
       "min              2015-05-22 03:11:00+02:00   \n",
       "25%              2015-10-24 11:20:00+02:00   \n",
       "50%              2016-03-27 16:02:30+02:00   \n",
       "75%              2016-08-29 19:09:45+02:00   \n",
       "max              2017-02-01 01:04:00+01:00   \n",
       "\n",
       "            DE_KN_residential2_grid_import  \n",
       "count                                  622  \n",
       "mean   2016-03-27 12:52:11.575562496+02:00  \n",
       "min              2015-05-22 01:41:00+02:00  \n",
       "25%              2015-10-24 06:03:30+02:00  \n",
       "50%              2016-03-27 13:16:30+02:00  \n",
       "75%              2016-08-29 17:29:45+02:00  \n",
       "max              2017-02-01 01:36:00+01:00  "
      ]
     },
     "execution_count": 49,
     "metadata": {},
     "output_type": "execute_result"
    }
   ],
   "source": [
    "print(\"Global min load time mean:\")\n",
    "print(np.mean(min_datetimes.min()).strftime(\"%H:%M:%S\"))\n",
    "min_datetimes.describe(datetime_is_numeric=True)"
   ]
  }
 ],
 "metadata": {
  "kernelspec": {
   "display_name": "Python 3.9.7 ('base')",
   "language": "python",
   "name": "python3"
  },
  "language_info": {
   "codemirror_mode": {
    "name": "ipython",
    "version": 3
   },
   "file_extension": ".py",
   "mimetype": "text/x-python",
   "name": "python",
   "nbconvert_exporter": "python",
   "pygments_lexer": "ipython3",
   "version": "3.9.12"
  },
  "orig_nbformat": 4,
  "vscode": {
   "interpreter": {
    "hash": "6def5470faae44f4518b425a4b3738447140b51def98969fb990afe68d0dcf30"
   }
  }
 },
 "nbformat": 4,
 "nbformat_minor": 2
}
