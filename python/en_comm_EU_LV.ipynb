{
 "cells": [
  {
   "cell_type": "code",
   "execution_count": 189,
   "metadata": {},
   "outputs": [],
   "source": [
    "import os\n",
    "import random\n",
    "import pandas as pd\n",
    "import numpy as np\n",
    "from datetime import timedelta\n",
    "import pandapower as pp\n",
    "import pandapower.networks as pn\n",
    "import pandapower.plotting as plot\n",
    "from pandapower.timeseries import DFData\n",
    "from pandapower.timeseries import OutputWriter\n",
    "from pandapower.timeseries.run_time_series import run_timeseries\n",
    "from pandapower.control import ConstControl\n",
    "import matplotlib\n",
    "import matplotlib.pyplot as plt\n",
    "import matplotlib.dates as mdates\n",
    "\n",
    "matplotlib.rcParams[\"timezone\"] = \"Europe/Berlin\"\n",
    "\n",
    "import data_process_base\n",
    "import importlib\n",
    "importlib.reload(data_process_base)\n",
    "\n",
    "try:\n",
    "    import seaborn\n",
    "    colors = seaborn.color_palette()\n",
    "except:\n",
    "    colors = [\"b\", \"g\", \"r\", \"c\", \"y\"]"
   ]
  },
  {
   "cell_type": "code",
   "execution_count": 190,
   "metadata": {},
   "outputs": [
    {
     "name": "stdout",
     "output_type": "stream",
     "text": [
      "Number of data frame segments =  90\n",
      "dfList created successfully.\n"
     ]
    }
   ],
   "source": [
    "# create random time series from import data\n",
    "da = data_process_base.DataAction()\n",
    "nc = data_process_base.net_calc()\n",
    "\n",
    "da.folder_path = r\"G:\\\\My Drive\\\\docs\\\\Education\\\\University\\\\ALUF\\\\SSE\\\\6 sem\\\\Bachelor Thesis\\\\data\\\\\"\n",
    "keep_cols = ['DE_KN_residential1_grid_import',\n",
    "             'DE_KN_residential2_grid_import',\n",
    "             'utc_timestamp']\n",
    "da.imp_procc(\"house_data.csv\", keep_cols)"
   ]
  },
  {
   "cell_type": "code",
   "execution_count": 330,
   "metadata": {},
   "outputs": [],
   "source": [
    "def night_rand():\n",
    "    \"\"\"Create time-limited randomly sampled time series\"\"\"\n",
    "\n",
    "    # choose random list number for df\n",
    "    df_rand = np.random.choice(len(da.dfList[:-1]))  # last list dropped, likely not full\n",
    "\n",
    "    # parse random data and convert to time index, limit to single series\n",
    "    rand_col = np.random.randint(0,2)  # rand pick between two load profiles (in imported data)\n",
    "    ts1 = da.parse_procc(da.dfList[df_rand].iloc[:,rand_col]) \n",
    "\n",
    "    # limit to night time, random date\n",
    "    date1 = np.random.choice(da.unique_date(ts1)[1:-2])\n",
    "    night1 = da.get_night(ts1, date1).copy()\n",
    "\n",
    "    return night1\n"
   ]
  },
  {
   "cell_type": "code",
   "execution_count": 347,
   "metadata": {},
   "outputs": [
    {
     "data": {
      "text/plain": [
       "date_time\n",
       "2016-05-17 20:00:00+02:00    0.017578\n",
       "2016-05-17 20:01:00+02:00    0.010254\n",
       "2016-05-17 20:02:00+02:00    0.010254\n",
       "2016-05-17 20:03:00+02:00    0.020020\n",
       "2016-05-17 20:04:00+02:00    0.009766\n",
       "                               ...   \n",
       "2016-05-18 05:56:00+02:00    0.002441\n",
       "2016-05-18 05:57:00+02:00    0.007324\n",
       "2016-05-18 05:58:00+02:00    0.004883\n",
       "2016-05-18 05:59:00+02:00    0.004883\n",
       "2016-05-18 06:00:00+02:00    0.009766\n",
       "Name: DE_KN_residential1_grid_import, Length: 601, dtype: float64"
      ]
     },
     "execution_count": 347,
     "metadata": {},
     "output_type": "execute_result"
    }
   ],
   "source": [
    "night1 = night_rand()\n",
    "night1"
   ]
  },
  {
   "cell_type": "code",
   "execution_count": 324,
   "metadata": {},
   "outputs": [],
   "source": [
    "total_loads = 59\n",
    "\n",
    "load_names = []\n",
    "for i in range(0, total_loads):\n",
    "    load_name = 'loadh_' + str(i)\n",
    "    load_names.append(load_name)"
   ]
  },
  {
   "cell_type": "code",
   "execution_count": 328,
   "metadata": {},
   "outputs": [
    {
     "data": {
      "text/html": [
       "<div>\n",
       "<style scoped>\n",
       "    .dataframe tbody tr th:only-of-type {\n",
       "        vertical-align: middle;\n",
       "    }\n",
       "\n",
       "    .dataframe tbody tr th {\n",
       "        vertical-align: top;\n",
       "    }\n",
       "\n",
       "    .dataframe thead th {\n",
       "        text-align: right;\n",
       "    }\n",
       "</style>\n",
       "<table border=\"1\" class=\"dataframe\">\n",
       "  <thead>\n",
       "    <tr style=\"text-align: right;\">\n",
       "      <th></th>\n",
       "    </tr>\n",
       "  </thead>\n",
       "  <tbody>\n",
       "  </tbody>\n",
       "</table>\n",
       "</div>"
      ],
      "text/plain": [
       "Empty DataFrame\n",
       "Columns: []\n",
       "Index: []"
      ]
     },
     "execution_count": 328,
     "metadata": {},
     "output_type": "execute_result"
    }
   ],
   "source": [
    "night_merge = pd.DataFrame()\n",
    "night_merge"
   ]
  },
  {
   "cell_type": "code",
   "execution_count": 329,
   "metadata": {},
   "outputs": [
    {
     "data": {
      "text/html": [
       "<div>\n",
       "<style scoped>\n",
       "    .dataframe tbody tr th:only-of-type {\n",
       "        vertical-align: middle;\n",
       "    }\n",
       "\n",
       "    .dataframe tbody tr th {\n",
       "        vertical-align: top;\n",
       "    }\n",
       "\n",
       "    .dataframe thead th {\n",
       "        text-align: right;\n",
       "    }\n",
       "</style>\n",
       "<table border=\"1\" class=\"dataframe\">\n",
       "  <thead>\n",
       "    <tr style=\"text-align: right;\">\n",
       "      <th></th>\n",
       "      <th>loadh_0</th>\n",
       "    </tr>\n",
       "    <tr>\n",
       "      <th>date_time</th>\n",
       "      <th></th>\n",
       "    </tr>\n",
       "  </thead>\n",
       "  <tbody>\n",
       "    <tr>\n",
       "      <th>2016-06-29 20:00:00+02:00</th>\n",
       "      <td>0.004883</td>\n",
       "    </tr>\n",
       "    <tr>\n",
       "      <th>2016-06-29 20:01:00+02:00</th>\n",
       "      <td>0.000000</td>\n",
       "    </tr>\n",
       "    <tr>\n",
       "      <th>2016-06-29 20:02:00+02:00</th>\n",
       "      <td>0.005127</td>\n",
       "    </tr>\n",
       "    <tr>\n",
       "      <th>2016-06-29 20:03:00+02:00</th>\n",
       "      <td>0.005127</td>\n",
       "    </tr>\n",
       "    <tr>\n",
       "      <th>2016-06-29 20:04:00+02:00</th>\n",
       "      <td>0.000000</td>\n",
       "    </tr>\n",
       "    <tr>\n",
       "      <th>...</th>\n",
       "      <td>...</td>\n",
       "    </tr>\n",
       "    <tr>\n",
       "      <th>2016-06-30 05:56:00+02:00</th>\n",
       "      <td>0.010010</td>\n",
       "    </tr>\n",
       "    <tr>\n",
       "      <th>2016-06-30 05:57:00+02:00</th>\n",
       "      <td>0.004883</td>\n",
       "    </tr>\n",
       "    <tr>\n",
       "      <th>2016-06-30 05:58:00+02:00</th>\n",
       "      <td>0.005127</td>\n",
       "    </tr>\n",
       "    <tr>\n",
       "      <th>2016-06-30 05:59:00+02:00</th>\n",
       "      <td>0.010010</td>\n",
       "    </tr>\n",
       "    <tr>\n",
       "      <th>2016-06-30 06:00:00+02:00</th>\n",
       "      <td>0.004883</td>\n",
       "    </tr>\n",
       "  </tbody>\n",
       "</table>\n",
       "<p>601 rows × 1 columns</p>\n",
       "</div>"
      ],
      "text/plain": [
       "                            loadh_0\n",
       "date_time                          \n",
       "2016-06-29 20:00:00+02:00  0.004883\n",
       "2016-06-29 20:01:00+02:00  0.000000\n",
       "2016-06-29 20:02:00+02:00  0.005127\n",
       "2016-06-29 20:03:00+02:00  0.005127\n",
       "2016-06-29 20:04:00+02:00  0.000000\n",
       "...                             ...\n",
       "2016-06-30 05:56:00+02:00  0.010010\n",
       "2016-06-30 05:57:00+02:00  0.004883\n",
       "2016-06-30 05:58:00+02:00  0.005127\n",
       "2016-06-30 05:59:00+02:00  0.010010\n",
       "2016-06-30 06:00:00+02:00  0.004883\n",
       "\n",
       "[601 rows x 1 columns]"
      ]
     },
     "execution_count": 329,
     "metadata": {},
     "output_type": "execute_result"
    }
   ],
   "source": [
    "night_merge[load_names[0]] = night1\n",
    "night_merge"
   ]
  }
 ],
 "metadata": {
  "kernelspec": {
   "display_name": "Python 3.9.7 ('base')",
   "language": "python",
   "name": "python3"
  },
  "language_info": {
   "codemirror_mode": {
    "name": "ipython",
    "version": 3
   },
   "file_extension": ".py",
   "mimetype": "text/x-python",
   "name": "python",
   "nbconvert_exporter": "python",
   "pygments_lexer": "ipython3",
   "version": "3.9.7"
  },
  "orig_nbformat": 4,
  "vscode": {
   "interpreter": {
    "hash": "6def5470faae44f4518b425a4b3738447140b51def98969fb990afe68d0dcf30"
   }
  }
 },
 "nbformat": 4,
 "nbformat_minor": 2
}
